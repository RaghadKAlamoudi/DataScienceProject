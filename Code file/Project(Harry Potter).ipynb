{
 "cells": [
  {
   "cell_type": "markdown",
   "id": "1cf4578b-efe7-4ef9-9eca-c1130197ff36",
   "metadata": {},
   "source": [
    "# Import Library Pandas"
   ]
  },
  {
   "cell_type": "code",
   "execution_count": 98,
   "id": "9ad81a92-9222-49e0-a5ef-eedf492f25a1",
   "metadata": {},
   "outputs": [],
   "source": [
    "import pandas as pd"
   ]
  },
  {
   "cell_type": "markdown",
   "id": "424ea9cd-4f70-4dd2-93f7-2bb804babcdf",
   "metadata": {},
   "source": [
    "# Read CSV File of Harry Potter Dataset"
   ]
  },
  {
   "cell_type": "code",
   "execution_count": 101,
   "id": "f5438761-7565-4a28-9aac-f442eb66cf0a",
   "metadata": {},
   "outputs": [
    {
     "data": {
      "text/html": [
       "<div>\n",
       "<style scoped>\n",
       "    .dataframe tbody tr th:only-of-type {\n",
       "        vertical-align: middle;\n",
       "    }\n",
       "\n",
       "    .dataframe tbody tr th {\n",
       "        vertical-align: top;\n",
       "    }\n",
       "\n",
       "    .dataframe thead th {\n",
       "        text-align: right;\n",
       "    }\n",
       "</style>\n",
       "<table border=\"1\" class=\"dataframe\">\n",
       "  <thead>\n",
       "    <tr style=\"text-align: right;\">\n",
       "      <th></th>\n",
       "      <th>Movie ID</th>\n",
       "      <th>Movie Title</th>\n",
       "      <th>Release Year</th>\n",
       "      <th>Runtime</th>\n",
       "      <th>Budget</th>\n",
       "      <th>Box Office</th>\n",
       "      <th>Chapter ID</th>\n",
       "      <th>Chapter Name</th>\n",
       "      <th>Movie Chapter</th>\n",
       "      <th>Dialogue ID</th>\n",
       "      <th>...</th>\n",
       "      <th>Patronus</th>\n",
       "      <th>Wand (Wood)</th>\n",
       "      <th>Wand (Core)</th>\n",
       "      <th>Place Name</th>\n",
       "      <th>Place Category</th>\n",
       "      <th>Budget_Numeric</th>\n",
       "      <th>BoxOffice_Numeric</th>\n",
       "      <th>BoxOffice_to_Budget</th>\n",
       "      <th>Release Year Extracted</th>\n",
       "      <th>Profit_Margin</th>\n",
       "    </tr>\n",
       "  </thead>\n",
       "  <tbody>\n",
       "    <tr>\n",
       "      <th>0</th>\n",
       "      <td>1</td>\n",
       "      <td>Harry Potter and the Philosopher's Stone</td>\n",
       "      <td>2001-01-01</td>\n",
       "      <td>152</td>\n",
       "      <td>125000000.0</td>\n",
       "      <td>1.002000e+09</td>\n",
       "      <td>1</td>\n",
       "      <td>Doorstep Delivery</td>\n",
       "      <td>1</td>\n",
       "      <td>1</td>\n",
       "      <td>...</td>\n",
       "      <td>Phoenix</td>\n",
       "      <td>Elder</td>\n",
       "      <td>Thestral Tail Hair</td>\n",
       "      <td>4 Privet Drive</td>\n",
       "      <td>Dwellings</td>\n",
       "      <td>125000000.0</td>\n",
       "      <td>1.002000e+09</td>\n",
       "      <td>8.016</td>\n",
       "      <td>2001</td>\n",
       "      <td>701.6</td>\n",
       "    </tr>\n",
       "    <tr>\n",
       "      <th>1</th>\n",
       "      <td>1</td>\n",
       "      <td>Harry Potter and the Philosopher's Stone</td>\n",
       "      <td>2001-01-01</td>\n",
       "      <td>152</td>\n",
       "      <td>125000000.0</td>\n",
       "      <td>1.002000e+09</td>\n",
       "      <td>1</td>\n",
       "      <td>Doorstep Delivery</td>\n",
       "      <td>1</td>\n",
       "      <td>2</td>\n",
       "      <td>...</td>\n",
       "      <td>Cat</td>\n",
       "      <td>Fir</td>\n",
       "      <td>Dragon Heartstring</td>\n",
       "      <td>4 Privet Drive</td>\n",
       "      <td>Dwellings</td>\n",
       "      <td>125000000.0</td>\n",
       "      <td>1.002000e+09</td>\n",
       "      <td>8.016</td>\n",
       "      <td>2001</td>\n",
       "      <td>701.6</td>\n",
       "    </tr>\n",
       "    <tr>\n",
       "      <th>2</th>\n",
       "      <td>1</td>\n",
       "      <td>Harry Potter and the Philosopher's Stone</td>\n",
       "      <td>2001-01-01</td>\n",
       "      <td>152</td>\n",
       "      <td>125000000.0</td>\n",
       "      <td>1.002000e+09</td>\n",
       "      <td>1</td>\n",
       "      <td>Doorstep Delivery</td>\n",
       "      <td>1</td>\n",
       "      <td>3</td>\n",
       "      <td>...</td>\n",
       "      <td>Phoenix</td>\n",
       "      <td>Elder</td>\n",
       "      <td>Thestral Tail Hair</td>\n",
       "      <td>4 Privet Drive</td>\n",
       "      <td>Dwellings</td>\n",
       "      <td>125000000.0</td>\n",
       "      <td>1.002000e+09</td>\n",
       "      <td>8.016</td>\n",
       "      <td>2001</td>\n",
       "      <td>701.6</td>\n",
       "    </tr>\n",
       "    <tr>\n",
       "      <th>3</th>\n",
       "      <td>1</td>\n",
       "      <td>Harry Potter and the Philosopher's Stone</td>\n",
       "      <td>2001-01-01</td>\n",
       "      <td>152</td>\n",
       "      <td>125000000.0</td>\n",
       "      <td>1.002000e+09</td>\n",
       "      <td>1</td>\n",
       "      <td>Doorstep Delivery</td>\n",
       "      <td>1</td>\n",
       "      <td>4</td>\n",
       "      <td>...</td>\n",
       "      <td>Cat</td>\n",
       "      <td>Fir</td>\n",
       "      <td>Dragon Heartstring</td>\n",
       "      <td>4 Privet Drive</td>\n",
       "      <td>Dwellings</td>\n",
       "      <td>125000000.0</td>\n",
       "      <td>1.002000e+09</td>\n",
       "      <td>8.016</td>\n",
       "      <td>2001</td>\n",
       "      <td>701.6</td>\n",
       "    </tr>\n",
       "    <tr>\n",
       "      <th>4</th>\n",
       "      <td>1</td>\n",
       "      <td>Harry Potter and the Philosopher's Stone</td>\n",
       "      <td>2001-01-01</td>\n",
       "      <td>152</td>\n",
       "      <td>125000000.0</td>\n",
       "      <td>1.002000e+09</td>\n",
       "      <td>1</td>\n",
       "      <td>Doorstep Delivery</td>\n",
       "      <td>1</td>\n",
       "      <td>5</td>\n",
       "      <td>...</td>\n",
       "      <td>Phoenix</td>\n",
       "      <td>Elder</td>\n",
       "      <td>Thestral Tail Hair</td>\n",
       "      <td>4 Privet Drive</td>\n",
       "      <td>Dwellings</td>\n",
       "      <td>125000000.0</td>\n",
       "      <td>1.002000e+09</td>\n",
       "      <td>8.016</td>\n",
       "      <td>2001</td>\n",
       "      <td>701.6</td>\n",
       "    </tr>\n",
       "    <tr>\n",
       "      <th>5</th>\n",
       "      <td>1</td>\n",
       "      <td>Harry Potter and the Philosopher's Stone</td>\n",
       "      <td>2001-01-01</td>\n",
       "      <td>152</td>\n",
       "      <td>125000000.0</td>\n",
       "      <td>1.002000e+09</td>\n",
       "      <td>1</td>\n",
       "      <td>Doorstep Delivery</td>\n",
       "      <td>1</td>\n",
       "      <td>6</td>\n",
       "      <td>...</td>\n",
       "      <td>Cat</td>\n",
       "      <td>Fir</td>\n",
       "      <td>Dragon Heartstring</td>\n",
       "      <td>4 Privet Drive</td>\n",
       "      <td>Dwellings</td>\n",
       "      <td>125000000.0</td>\n",
       "      <td>1.002000e+09</td>\n",
       "      <td>8.016</td>\n",
       "      <td>2001</td>\n",
       "      <td>701.6</td>\n",
       "    </tr>\n",
       "    <tr>\n",
       "      <th>6</th>\n",
       "      <td>1</td>\n",
       "      <td>Harry Potter and the Philosopher's Stone</td>\n",
       "      <td>2001-01-01</td>\n",
       "      <td>152</td>\n",
       "      <td>125000000.0</td>\n",
       "      <td>1.002000e+09</td>\n",
       "      <td>1</td>\n",
       "      <td>Doorstep Delivery</td>\n",
       "      <td>1</td>\n",
       "      <td>7</td>\n",
       "      <td>...</td>\n",
       "      <td>Phoenix</td>\n",
       "      <td>Elder</td>\n",
       "      <td>Thestral Tail Hair</td>\n",
       "      <td>4 Privet Drive</td>\n",
       "      <td>Dwellings</td>\n",
       "      <td>125000000.0</td>\n",
       "      <td>1.002000e+09</td>\n",
       "      <td>8.016</td>\n",
       "      <td>2001</td>\n",
       "      <td>701.6</td>\n",
       "    </tr>\n",
       "    <tr>\n",
       "      <th>7</th>\n",
       "      <td>1</td>\n",
       "      <td>Harry Potter and the Philosopher's Stone</td>\n",
       "      <td>2001-01-01</td>\n",
       "      <td>152</td>\n",
       "      <td>125000000.0</td>\n",
       "      <td>1.002000e+09</td>\n",
       "      <td>1</td>\n",
       "      <td>Doorstep Delivery</td>\n",
       "      <td>1</td>\n",
       "      <td>8</td>\n",
       "      <td>...</td>\n",
       "      <td>NaN</td>\n",
       "      <td>Oak</td>\n",
       "      <td>NaN</td>\n",
       "      <td>4 Privet Drive</td>\n",
       "      <td>Dwellings</td>\n",
       "      <td>125000000.0</td>\n",
       "      <td>1.002000e+09</td>\n",
       "      <td>8.016</td>\n",
       "      <td>2001</td>\n",
       "      <td>701.6</td>\n",
       "    </tr>\n",
       "    <tr>\n",
       "      <th>8</th>\n",
       "      <td>1</td>\n",
       "      <td>Harry Potter and the Philosopher's Stone</td>\n",
       "      <td>2001-01-01</td>\n",
       "      <td>152</td>\n",
       "      <td>125000000.0</td>\n",
       "      <td>1.002000e+09</td>\n",
       "      <td>1</td>\n",
       "      <td>Doorstep Delivery</td>\n",
       "      <td>1</td>\n",
       "      <td>9</td>\n",
       "      <td>...</td>\n",
       "      <td>Phoenix</td>\n",
       "      <td>Elder</td>\n",
       "      <td>Thestral Tail Hair</td>\n",
       "      <td>4 Privet Drive</td>\n",
       "      <td>Dwellings</td>\n",
       "      <td>125000000.0</td>\n",
       "      <td>1.002000e+09</td>\n",
       "      <td>8.016</td>\n",
       "      <td>2001</td>\n",
       "      <td>701.6</td>\n",
       "    </tr>\n",
       "    <tr>\n",
       "      <th>9</th>\n",
       "      <td>1</td>\n",
       "      <td>Harry Potter and the Philosopher's Stone</td>\n",
       "      <td>2001-01-01</td>\n",
       "      <td>152</td>\n",
       "      <td>125000000.0</td>\n",
       "      <td>1.002000e+09</td>\n",
       "      <td>1</td>\n",
       "      <td>Doorstep Delivery</td>\n",
       "      <td>1</td>\n",
       "      <td>10</td>\n",
       "      <td>...</td>\n",
       "      <td>NaN</td>\n",
       "      <td>Oak</td>\n",
       "      <td>NaN</td>\n",
       "      <td>4 Privet Drive</td>\n",
       "      <td>Dwellings</td>\n",
       "      <td>125000000.0</td>\n",
       "      <td>1.002000e+09</td>\n",
       "      <td>8.016</td>\n",
       "      <td>2001</td>\n",
       "      <td>701.6</td>\n",
       "    </tr>\n",
       "  </tbody>\n",
       "</table>\n",
       "<p>10 rows × 27 columns</p>\n",
       "</div>"
      ],
      "text/plain": [
       "   Movie ID                               Movie Title Release Year  Runtime  \\\n",
       "0         1  Harry Potter and the Philosopher's Stone   2001-01-01      152   \n",
       "1         1  Harry Potter and the Philosopher's Stone   2001-01-01      152   \n",
       "2         1  Harry Potter and the Philosopher's Stone   2001-01-01      152   \n",
       "3         1  Harry Potter and the Philosopher's Stone   2001-01-01      152   \n",
       "4         1  Harry Potter and the Philosopher's Stone   2001-01-01      152   \n",
       "5         1  Harry Potter and the Philosopher's Stone   2001-01-01      152   \n",
       "6         1  Harry Potter and the Philosopher's Stone   2001-01-01      152   \n",
       "7         1  Harry Potter and the Philosopher's Stone   2001-01-01      152   \n",
       "8         1  Harry Potter and the Philosopher's Stone   2001-01-01      152   \n",
       "9         1  Harry Potter and the Philosopher's Stone   2001-01-01      152   \n",
       "\n",
       "        Budget    Box Office  Chapter ID       Chapter Name  Movie Chapter  \\\n",
       "0  125000000.0  1.002000e+09           1  Doorstep Delivery              1   \n",
       "1  125000000.0  1.002000e+09           1  Doorstep Delivery              1   \n",
       "2  125000000.0  1.002000e+09           1  Doorstep Delivery              1   \n",
       "3  125000000.0  1.002000e+09           1  Doorstep Delivery              1   \n",
       "4  125000000.0  1.002000e+09           1  Doorstep Delivery              1   \n",
       "5  125000000.0  1.002000e+09           1  Doorstep Delivery              1   \n",
       "6  125000000.0  1.002000e+09           1  Doorstep Delivery              1   \n",
       "7  125000000.0  1.002000e+09           1  Doorstep Delivery              1   \n",
       "8  125000000.0  1.002000e+09           1  Doorstep Delivery              1   \n",
       "9  125000000.0  1.002000e+09           1  Doorstep Delivery              1   \n",
       "\n",
       "   Dialogue ID  ...  Patronus  Wand (Wood)         Wand (Core)  \\\n",
       "0            1  ...   Phoenix        Elder  Thestral Tail Hair   \n",
       "1            2  ...       Cat          Fir  Dragon Heartstring   \n",
       "2            3  ...   Phoenix        Elder  Thestral Tail Hair   \n",
       "3            4  ...       Cat          Fir  Dragon Heartstring   \n",
       "4            5  ...   Phoenix        Elder  Thestral Tail Hair   \n",
       "5            6  ...       Cat          Fir  Dragon Heartstring   \n",
       "6            7  ...   Phoenix        Elder  Thestral Tail Hair   \n",
       "7            8  ...       NaN          Oak                 NaN   \n",
       "8            9  ...   Phoenix        Elder  Thestral Tail Hair   \n",
       "9           10  ...       NaN          Oak                 NaN   \n",
       "\n",
       "       Place Name Place Category Budget_Numeric BoxOffice_Numeric  \\\n",
       "0  4 Privet Drive      Dwellings    125000000.0      1.002000e+09   \n",
       "1  4 Privet Drive      Dwellings    125000000.0      1.002000e+09   \n",
       "2  4 Privet Drive      Dwellings    125000000.0      1.002000e+09   \n",
       "3  4 Privet Drive      Dwellings    125000000.0      1.002000e+09   \n",
       "4  4 Privet Drive      Dwellings    125000000.0      1.002000e+09   \n",
       "5  4 Privet Drive      Dwellings    125000000.0      1.002000e+09   \n",
       "6  4 Privet Drive      Dwellings    125000000.0      1.002000e+09   \n",
       "7  4 Privet Drive      Dwellings    125000000.0      1.002000e+09   \n",
       "8  4 Privet Drive      Dwellings    125000000.0      1.002000e+09   \n",
       "9  4 Privet Drive      Dwellings    125000000.0      1.002000e+09   \n",
       "\n",
       "  BoxOffice_to_Budget Release Year Extracted Profit_Margin  \n",
       "0               8.016                   2001         701.6  \n",
       "1               8.016                   2001         701.6  \n",
       "2               8.016                   2001         701.6  \n",
       "3               8.016                   2001         701.6  \n",
       "4               8.016                   2001         701.6  \n",
       "5               8.016                   2001         701.6  \n",
       "6               8.016                   2001         701.6  \n",
       "7               8.016                   2001         701.6  \n",
       "8               8.016                   2001         701.6  \n",
       "9               8.016                   2001         701.6  \n",
       "\n",
       "[10 rows x 27 columns]"
      ]
     },
     "execution_count": 101,
     "metadata": {},
     "output_type": "execute_result"
    }
   ],
   "source": [
    "Harry_Potter = pd.read_csv('HarryPotterDataset.csv', encoding='latin1')\n",
    "Harry_Potter.head(10)"
   ]
  },
  {
   "cell_type": "markdown",
   "id": "b79f533a-d5c9-44ea-a61e-a9baed2768dd",
   "metadata": {},
   "source": [
    "# Using Basic Python Syntax in the Dataset of Harry Potter "
   ]
  },
  {
   "cell_type": "markdown",
   "id": "5b92708b-fe82-47e6-8b7d-b1d897dda0d2",
   "metadata": {},
   "source": [
    "#### Using size"
   ]
  },
  {
   "cell_type": "code",
   "execution_count": 105,
   "id": "888bd7ce-df46-467b-803d-535e8c274506",
   "metadata": {},
   "outputs": [
    {
     "data": {
      "text/plain": [
       "200988"
      ]
     },
     "execution_count": 105,
     "metadata": {},
     "output_type": "execute_result"
    }
   ],
   "source": [
    "Harry_Potter.size"
   ]
  },
  {
   "cell_type": "markdown",
   "id": "0fd5cec6-e0b9-44ca-b1c3-e26eedcb36b8",
   "metadata": {},
   "source": [
    "#### Checking data types of columns"
   ]
  },
  {
   "cell_type": "code",
   "execution_count": 108,
   "id": "8b87734b-b250-4227-8b42-b3c85e753ec2",
   "metadata": {},
   "outputs": [
    {
     "name": "stdout",
     "output_type": "stream",
     "text": [
      "Movie ID                    int64\n",
      "Movie Title                object\n",
      "Release Year               object\n",
      "Runtime                     int64\n",
      "Budget                    float64\n",
      "Box Office                float64\n",
      "Chapter ID                  int64\n",
      "Chapter Name               object\n",
      "Movie Chapter               int64\n",
      "Dialogue ID                 int64\n",
      "Place ID                    int64\n",
      "Character ID                int64\n",
      "Dialogue                   object\n",
      "Character Name             object\n",
      "Species                    object\n",
      "Gender                     object\n",
      "House                      object\n",
      "Patronus                   object\n",
      "Wand (Wood)                object\n",
      "Wand (Core)                object\n",
      "Place Name                 object\n",
      "Place Category             object\n",
      "Budget_Numeric            float64\n",
      "BoxOffice_Numeric         float64\n",
      "BoxOffice_to_Budget       float64\n",
      "Release Year Extracted      int64\n",
      "Profit_Margin             float64\n",
      "dtype: object\n",
      "Type of 'Movie Title': <class 'pandas.core.series.Series'>\n"
     ]
    }
   ],
   "source": [
    "print(Harry_Potter.dtypes)\n",
    "\n",
    "# Accessing the type of a specific column\n",
    "print(\"Type of 'Movie Title':\", type(Harry_Potter[\"Movie Title\"]))"
   ]
  },
  {
   "cell_type": "markdown",
   "id": "2a557964-184a-4d71-abbe-f82effd79be8",
   "metadata": {},
   "source": [
    "##### Check available attributes and methods for the dataset"
   ]
  },
  {
   "cell_type": "code",
   "execution_count": 111,
   "id": "42b822ab-e510-41a2-aa5b-e39885de3474",
   "metadata": {},
   "outputs": [
    {
     "name": "stdout",
     "output_type": "stream",
     "text": [
      "['BoxOffice_Numeric', 'BoxOffice_to_Budget', 'Budget', 'Budget_Numeric', 'Dialogue', 'Gender', 'House', 'Patronus', 'Profit_Margin', 'Runtime', 'Species', 'T', '_AXIS_LEN', '_AXIS_ORDERS', '_AXIS_TO_AXIS_NUMBER', '_HANDLED_TYPES', '__abs__', '__add__', '__and__', '__annotations__', '__array__', '__array_priority__', '__array_ufunc__', '__arrow_c_stream__', '__bool__', '__class__', '__contains__', '__copy__', '__dataframe__', '__dataframe_consortium_standard__', '__deepcopy__', '__delattr__', '__delitem__', '__dict__', '__dir__', '__divmod__', '__doc__', '__eq__', '__finalize__', '__floordiv__', '__format__', '__ge__', '__getattr__', '__getattribute__', '__getitem__', '__getstate__', '__gt__', '__hash__', '__iadd__', '__iand__', '__ifloordiv__', '__imod__', '__imul__', '__init__', '__init_subclass__', '__invert__', '__ior__', '__ipow__', '__isub__', '__iter__', '__itruediv__', '__ixor__', '__le__', '__len__', '__lt__', '__matmul__', '__mod__', '__module__', '__mul__', '__ne__', '__neg__', '__new__', '__nonzero__', '__or__', '__pandas_priority__', '__pos__', '__pow__', '__radd__', '__rand__', '__rdivmod__', '__reduce__', '__reduce_ex__', '__repr__', '__rfloordiv__', '__rmatmul__', '__rmod__', '__rmul__', '__ror__', '__round__', '__rpow__', '__rsub__', '__rtruediv__', '__rxor__', '__setattr__', '__setitem__', '__setstate__', '__sizeof__', '__str__', '__sub__', '__subclasshook__', '__truediv__', '__weakref__', '__xor__', '_accessors', '_accum_func', '_agg_examples_doc', '_agg_see_also_doc', '_align_for_op', '_align_frame', '_align_series', '_append', '_arith_method', '_arith_method_with_reindex', '_as_manager', '_attrs', '_box_col_values', '_can_fast_transpose', '_check_inplace_and_allows_duplicate_labels', '_check_is_chained_assignment_possible', '_check_label_or_level_ambiguity', '_check_setitem_copy', '_clear_item_cache', '_clip_with_one_bound', '_clip_with_scalar', '_cmp_method', '_combine_frame', '_consolidate', '_consolidate_inplace', '_construct_axes_dict', '_construct_result', '_constructor', '_constructor_from_mgr', '_constructor_sliced', '_constructor_sliced_from_mgr', '_create_data_for_split_and_tight_to_dict', '_data', '_deprecate_downcast', '_dir_additions', '_dir_deletions', '_dispatch_frame_op', '_drop_axis', '_drop_labels_or_levels', '_ensure_valid_index', '_find_valid_index', '_flags', '_flex_arith_method', '_flex_cmp_method', '_from_arrays', '_from_mgr', '_get_agg_axis', '_get_axis', '_get_axis_name', '_get_axis_number', '_get_axis_resolvers', '_get_block_manager_axis', '_get_bool_data', '_get_cleaned_column_resolvers', '_get_column_array', '_get_index_resolvers', '_get_item_cache', '_get_label_or_level_values', '_get_numeric_data', '_get_value', '_get_values_for_csv', '_getitem_bool_array', '_getitem_multilevel', '_getitem_nocopy', '_getitem_slice', '_gotitem', '_hidden_attrs', '_indexed_same', '_info_axis', '_info_axis_name', '_info_axis_number', '_info_repr', '_init_mgr', '_inplace_method', '_internal_names', '_internal_names_set', '_is_copy', '_is_homogeneous_type', '_is_label_or_level_reference', '_is_label_reference', '_is_level_reference', '_is_mixed_type', '_is_view', '_is_view_after_cow_rules', '_iset_item', '_iset_item_mgr', '_iset_not_inplace', '_item_cache', '_iter_column_arrays', '_ixs', '_logical_func', '_logical_method', '_maybe_align_series_as_frame', '_maybe_cache_changed', '_maybe_update_cacher', '_metadata', '_mgr', '_min_count_stat_function', '_needs_reindex_multi', '_pad_or_backfill', '_protect_consolidate', '_reduce', '_reduce_axis1', '_reindex_axes', '_reindex_multi', '_reindex_with_indexers', '_rename', '_replace_columnwise', '_repr_data_resource_', '_repr_fits_horizontal_', '_repr_fits_vertical_', '_repr_html_', '_repr_latex_', '_reset_cache', '_reset_cacher', '_sanitize_column', '_series', '_set_axis', '_set_axis_name', '_set_axis_nocheck', '_set_is_copy', '_set_item', '_set_item_frame_value', '_set_item_mgr', '_set_value', '_setitem_array', '_setitem_frame', '_setitem_slice', '_shift_with_freq', '_should_reindex_frame_op', '_slice', '_stat_function', '_stat_function_ddof', '_take_with_is_copy', '_to_dict_of_blocks', '_to_latex_via_styler', '_typ', '_update_inplace', '_validate_dtype', '_values', '_where', 'abs', 'add', 'add_prefix', 'add_suffix', 'agg', 'aggregate', 'align', 'all', 'any', 'apply', 'applymap', 'asfreq', 'asof', 'assign', 'astype', 'at', 'at_time', 'attrs', 'axes', 'backfill', 'between_time', 'bfill', 'bool', 'boxplot', 'clip', 'columns', 'combine', 'combine_first', 'compare', 'convert_dtypes', 'copy', 'corr', 'corrwith', 'count', 'cov', 'cummax', 'cummin', 'cumprod', 'cumsum', 'describe', 'diff', 'div', 'divide', 'dot', 'drop', 'drop_duplicates', 'droplevel', 'dropna', 'dtypes', 'duplicated', 'empty', 'eq', 'equals', 'eval', 'ewm', 'expanding', 'explode', 'ffill', 'fillna', 'filter', 'first', 'first_valid_index', 'flags', 'floordiv', 'from_dict', 'from_records', 'ge', 'get', 'groupby', 'gt', 'head', 'hist', 'iat', 'idxmax', 'idxmin', 'iloc', 'index', 'infer_objects', 'info', 'insert', 'interpolate', 'isetitem', 'isin', 'isna', 'isnull', 'items', 'iterrows', 'itertuples', 'join', 'keys', 'kurt', 'kurtosis', 'last', 'last_valid_index', 'le', 'loc', 'lt', 'map', 'mask', 'max', 'mean', 'median', 'melt', 'memory_usage', 'merge', 'min', 'mod', 'mode', 'mul', 'multiply', 'ndim', 'ne', 'nlargest', 'notna', 'notnull', 'nsmallest', 'nunique', 'pad', 'pct_change', 'pipe', 'pivot', 'pivot_table', 'plot', 'pop', 'pow', 'prod', 'product', 'quantile', 'query', 'radd', 'rank', 'rdiv', 'reindex', 'reindex_like', 'rename', 'rename_axis', 'reorder_levels', 'replace', 'resample', 'reset_index', 'rfloordiv', 'rmod', 'rmul', 'rolling', 'round', 'rpow', 'rsub', 'rtruediv', 'sample', 'select_dtypes', 'sem', 'set_axis', 'set_flags', 'set_index', 'shape', 'shift', 'size', 'skew', 'sort_index', 'sort_values', 'squeeze', 'stack', 'std', 'style', 'sub', 'subtract', 'sum', 'swapaxes', 'swaplevel', 'tail', 'take', 'to_clipboard', 'to_csv', 'to_dict', 'to_excel', 'to_feather', 'to_gbq', 'to_hdf', 'to_html', 'to_json', 'to_latex', 'to_markdown', 'to_numpy', 'to_orc', 'to_parquet', 'to_period', 'to_pickle', 'to_records', 'to_sql', 'to_stata', 'to_string', 'to_timestamp', 'to_xarray', 'to_xml', 'transform', 'transpose', 'truediv', 'truncate', 'tz_convert', 'tz_localize', 'unstack', 'update', 'value_counts', 'values', 'var', 'where', 'xs']\n"
     ]
    }
   ],
   "source": [
    "print(dir(Harry_Potter))"
   ]
  },
  {
   "cell_type": "markdown",
   "id": "cc8b3db7-468b-422a-9491-0597239e1ed5",
   "metadata": {},
   "source": [
    "#### Finding the Maximum & Minimum"
   ]
  },
  {
   "cell_type": "code",
   "execution_count": 114,
   "id": "9f644efb-d102-4740-97ab-cee8c40af839",
   "metadata": {},
   "outputs": [
    {
     "name": "stdout",
     "output_type": "stream",
     "text": [
      "Number of rows: 7444\n",
      "Max Runtime: 161\n",
      "Min Runtime: 130\n"
     ]
    }
   ],
   "source": [
    "print(\"Number of rows:\", len(Harry_Potter))\n",
    "print(\"Max Runtime:\", Harry_Potter[\"Runtime\"].max())\n",
    "print(\"Min Runtime:\", Harry_Potter[\"Runtime\"].min())"
   ]
  },
  {
   "cell_type": "markdown",
   "id": "85c6b187-b321-44b2-86c6-0cb40165af4b",
   "metadata": {},
   "source": [
    "#### Function to calculate the average runtime of movies"
   ]
  },
  {
   "cell_type": "code",
   "execution_count": 117,
   "id": "8fa8940f-6ca7-4cf6-a414-9bd519a69da6",
   "metadata": {},
   "outputs": [
    {
     "name": "stdout",
     "output_type": "stream",
     "text": [
      "Average Runtime: 147.55413756045138\n"
     ]
    }
   ],
   "source": [
    "def calculate_average_runtime(data):\n",
    "    return data[\"Runtime\"].mean()\n",
    "\n",
    "print(\"Average Runtime:\", calculate_average_runtime(Harry_Potter))"
   ]
  },
  {
   "cell_type": "markdown",
   "id": "39e473c3-3855-44f9-a4c6-35662028434e",
   "metadata": {},
   "source": [
    "#### Check if there are any movies longer than 180 minutes"
   ]
  },
  {
   "cell_type": "code",
   "execution_count": 120,
   "id": "c833e1af-c94f-435b-9f89-f8a160d32f78",
   "metadata": {},
   "outputs": [
    {
     "name": "stdout",
     "output_type": "stream",
     "text": [
      "No movies longer than 180 minutes.\n"
     ]
    }
   ],
   "source": [
    "if (Harry_Potter[\"Runtime\"] > 180).any():\n",
    "    print(\"There are movies longer than 180 minutes.\")\n",
    "else:\n",
    "    print(\"No movies longer than 180 minutes.\")"
   ]
  },
  {
   "cell_type": "markdown",
   "id": "d1c1d1ad-8fbd-464b-abe1-390fc4e7d1dd",
   "metadata": {},
   "source": [
    "####  For loop: Print all unique movie titles\n"
   ]
  },
  {
   "cell_type": "code",
   "execution_count": 123,
   "id": "8b285cea-1dc8-4c05-b817-a9e3b567cdd5",
   "metadata": {},
   "outputs": [
    {
     "name": "stdout",
     "output_type": "stream",
     "text": [
      "Unique Movie Titles:\n",
      "Harry Potter and the Philosopher's Stone\n",
      "Harry Potter and the Chamber of Secrets\n",
      "Harry Potter and the Prisoner of Azkaban\n",
      "Harry Potter and the Goblet of Fire\n",
      "Harry Potter and the Order of the Phoenix\n",
      "Harry Potter and the Half-Blood Prince\n",
      "Harry Potter and the Deathly Hallows Part 1\n",
      "Harry Potter and the Deathly Hallows Part 2\n"
     ]
    }
   ],
   "source": [
    "print(\"Unique Movie Titles:\")\n",
    "for title in Harry_Potter[\"Movie Title\"].unique():\n",
    "    print(title)"
   ]
  },
  {
   "cell_type": "markdown",
   "id": "3b1fdc02-a826-44df-b181-c295caf03520",
   "metadata": {},
   "source": [
    "#### While loop: Iterate through the first 5 rows and print their Movie IDs"
   ]
  },
  {
   "cell_type": "code",
   "execution_count": 126,
   "id": "58f6520a-aa68-4812-8de4-bab0f8c2f643",
   "metadata": {},
   "outputs": [
    {
     "name": "stdout",
     "output_type": "stream",
     "text": [
      "First 5 Movie IDs:\n",
      "1\n",
      "1\n",
      "1\n",
      "1\n",
      "1\n"
     ]
    }
   ],
   "source": [
    "index = 0\n",
    "print(\"First 5 Movie IDs:\")\n",
    "while index < 5:\n",
    "    print(Harry_Potter.iloc[index][\"Movie ID\"])\n",
    "    index += 1"
   ]
  },
  {
   "cell_type": "markdown",
   "id": "cd7b5c9f-b0ce-469d-bdd1-c0ad72675289",
   "metadata": {},
   "source": [
    "#### Create a dictionary mapping character names to their houses"
   ]
  },
  {
   "cell_type": "code",
   "execution_count": 129,
   "id": "b9785840-1da0-40ed-8425-ac00ec314e24",
   "metadata": {},
   "outputs": [
    {
     "name": "stdout",
     "output_type": "stream",
     "text": [
      "Character and House Mapping:\n",
      "Albus Dumbledore: Gryffindor\n",
      "Minerva McGonagall: Gryffindor\n",
      "Rubeus Hagrid: Gryffindor\n",
      "Petunia Dursley: nan\n",
      "Dudley Dursley: nan\n",
      "Vernon Dursley: nan\n",
      "Harry Potter: Gryffindor\n",
      "Student: nan\n",
      "Man: nan\n",
      "Tom: nan\n",
      "Goblin: nan\n",
      "Quirinus Quirrell: Ravenclaw\n",
      "Boy: nan\n",
      "Merpeople: nan\n",
      "Griphook: nan\n",
      "Garrick Ollivander: Ravenclaw\n",
      "Old man: nan\n",
      "Molly Weasley: Gryffindor\n",
      "George Weasley: Gryffindor\n",
      "Fred Weasley: Gryffindor\n",
      "Ginny Weasley: Gryffindor\n",
      "Ron Weasley: Gryffindor\n",
      "Woman: nan\n",
      "Hermione Granger: Gryffindor\n",
      "Neville Longbottom: Gryffindor\n",
      "Draco Malfoy: Slytherin\n",
      "Sorting Hat: nan\n",
      "Seamus Finnigan: Gryffindor\n",
      "Percy Weasley: Gryffindor\n",
      "Nearly Headless Nick: Gryffindor\n",
      "Bloody Baron: Slytherin\n",
      "Girl: nan\n",
      "Shrunken head: nan\n",
      "The Fat Lady: nan\n",
      "Severus Snape: Slytherin\n",
      "Rolanda Hooch: nan\n",
      "Class: nan\n",
      "Students: nan\n",
      "Boy 2: nan\n",
      "Argus Filch: nan\n",
      "All: nan\n",
      "Oliver Wood: Gryffindor\n",
      "Filius Flitwick: Ravenclaw\n",
      "Lee Jordan: Gryffindor\n",
      "Gryffindors: nan\n",
      "Marcus Flint: Slytherin\n",
      "Crowd: nan\n",
      "Man in a painting: nan\n",
      "Firenze: nan\n",
      "Voldemort: Slytherin\n",
      "Dobby: nan\n",
      "Arthur Weasley: Gryffindor\n",
      "Other: nan\n",
      "Snake: nan\n",
      "Gilderoy Lockhart: Ravenclaw\n",
      "Lucius Malfoy: Slytherin\n",
      "Waiter: nan\n",
      "Whomping Willow: nan\n",
      "Pomona Sprout: Hufflepuff\n",
      "Colin Creevey: Gryffindor\n",
      "Dean Thomas: Gryffindor\n",
      "Photographer: nan\n",
      "Snatcher: nan\n",
      "Serpent of Slitherin: nan\n",
      "Poppy Pomfrey: nan\n",
      "Moaning Myrtle: Ravenclaw\n",
      "Vincent Crabbe: Slytherin\n",
      "Justin Finch-Fletchley: Hufflepuff\n",
      "Gregory Goyle: Slytherin\n",
      "Diary: nan\n",
      "Tom Riddle: Slytherin\n",
      "Cornelius Fudge: nan\n",
      "Aragog: nan\n",
      "Marge Dursley: nan\n",
      "Stanley Shunpike: nan\n",
      "Station guard: nan\n",
      "Pixie: nan\n",
      "Remus Lupin: Gryffindor\n",
      "Sybill Trelawney: Ravenclaw\n",
      "Pansy Parkinson: Slytherin\n",
      "Parvati Patil: Gryffindor\n",
      "Rosmerta: nan\n",
      "Maid: nan\n",
      "Sirius Black: Gryffindor\n",
      "Peter Pettigrew: Gryffindor\n",
      "Centaur: nan\n",
      "Barty Crouch Jr.: nan\n",
      "Amos Diggory: nan\n",
      "Cedric Diggory: Hufflepuff\n",
      "Barty Crouch Sr.: nan\n",
      "Waitress: nan\n",
      "Cho Chang: Ravenclaw\n",
      "Gang thug: nan\n",
      "Igor Karkaroff: nan\n",
      "Olympe Maxime: Beauxbatons Academy of Magic\n",
      "Alastor Moody: nan\n",
      "Rita Skeeter: nan\n",
      "Viktor Krum: Durmstrang Institute\n",
      "Nigel Wolpert: Gryffindor\n",
      "Padma Patil: Ravenclaw\n",
      "Skinny kid: nan\n",
      "Fleur Delacour: Beauxbatons Academy of Magic\n",
      "James Potter: Gryffindor\n",
      "Lily Potter: Gryffindor\n",
      "Howler: nan\n",
      "Arabella Figg: nan\n",
      "Nymphadora Tonks: Hufflepuff\n",
      "Kingsley Shacklebolt: nan\n",
      "Walburga Black: Slytherin\n",
      "Perkins: nan\n",
      "Susan Bones: Hufflepuff\n",
      "Dolores Umbridge: Slytherin\n",
      "Kreacher: nan\n",
      "Luna Lovegood: Ravenclaw\n",
      "Angelina Johnson: Gryffindor\n",
      "Zacharias Smith: Hufflepuff\n",
      "Michael Corner: Ravenclaw\n",
      "Lavender Brown: Gryffindor\n",
      "Ernest Macmillan: Hufflepuff\n",
      "Everard: nan\n",
      "Dilys Derwent: nan\n",
      "Phineas: nan\n",
      "Grawp: nan\n",
      "Bane: nan\n",
      "Griselda Marchbanks: nan\n",
      "Magorian: nan\n",
      "Ghost: nan\n",
      "Bellatrix Lestrange: Slytherin\n",
      "Ghosts: nan\n",
      "Narcissa Malfoy: Slytherin\n",
      "Wizard: nan\n",
      "Horace Slughorn: Slytherin\n",
      "Blaise Zabini: Slytherin\n",
      "Katie Bell: Gryffindor\n",
      "Mrs. Cole: nan\n",
      "Cormac McLaggen: Gryffindor\n",
      "Death Eater: nan\n",
      "Leanne: Hufflepuff\n",
      "Marcus Belby: Ravenclaw\n",
      "Eldred Worple: nan\n",
      "Witch: nan\n",
      "Fenrir Greyback: nan\n",
      "Rufus Scrimgeour: nan\n",
      "Mrs. Granger: nan\n",
      "Mr. Granger: nan\n",
      "Corban Yaxley: Slytherin\n",
      "Pius Thicknesse: nan\n",
      "Charity Burbage: nan\n",
      "Bill Weasley: Gryffindor\n",
      "Mundungus Fletcher: nan\n",
      "Xenophilius Lovegood: nan\n",
      "Elphias Doge: nan\n",
      "Muriel: nan\n",
      "Guard: nan\n",
      "Mary Cattermole: nan\n",
      "Mykew Gregorovitch: nan\n",
      "Scabior: Slytherin\n",
      "Bathilda Bagshot: nan\n",
      "Gellert Grindelwald: Durmstrang Institute\n",
      "Trolley witch: nan\n",
      "Bogrod: nan\n",
      "Aberforth Dumbledore: nan\n",
      "Alecto Carrow: Slytherin\n",
      "Professors: nan\n",
      "Helena Ravenclaw: Ravenclaw\n",
      "Albus Potter: Slytherin\n"
     ]
    }
   ],
   "source": [
    "character_house_map = dict(zip(Harry_Potter[\"Character Name\"], Harry_Potter[\"House\"]))\n",
    "\n",
    "# Iterate through the dictionary and print\n",
    "print(\"Character and House Mapping:\")\n",
    "for character, house in character_house_map.items():\n",
    "    print(f\"{character}: {house}\")"
   ]
  },
  {
   "cell_type": "markdown",
   "id": "e39abeb5-d8e1-4085-9199-8169cb8f03ce",
   "metadata": {},
   "source": [
    "#### Iterating over the range of dialogue IDs"
   ]
  },
  {
   "cell_type": "code",
   "execution_count": 132,
   "id": "7985a16f-8a95-4c3c-a8a9-47b3618f06b2",
   "metadata": {},
   "outputs": [
    {
     "name": "stdout",
     "output_type": "stream",
     "text": [
      "Dialogue IDs in Range:\n",
      "Dialogue ID: 1\n",
      "Dialogue ID: 2\n",
      "Dialogue ID: 3\n",
      "Dialogue ID: 4\n",
      "Dialogue ID: 5\n",
      "Dialogue ID: 6\n",
      "Dialogue ID: 7\n",
      "Dialogue ID: 8\n",
      "Dialogue ID: 9\n",
      "Dialogue ID: 10\n"
     ]
    }
   ],
   "source": [
    "#Iterating over the range of dialogue IDs\n",
    "print(\"Dialogue IDs in Range:\")\n",
    "for i in range(1, 11):  # First 10 dialogue IDs\n",
    "    print(f\"Dialogue ID: {i}\")"
   ]
  },
  {
   "cell_type": "markdown",
   "id": "965357ce-84e9-43c2-8bc7-9d37e6230446",
   "metadata": {},
   "source": [
    "#### Filtering rows where the house is 'Gryffindor'"
   ]
  },
  {
   "cell_type": "code",
   "execution_count": 135,
   "id": "2a4ba5e0-2cd9-45bd-99d7-04c91b790431",
   "metadata": {},
   "outputs": [
    {
     "name": "stdout",
     "output_type": "stream",
     "text": [
      "Rows with Gryffindor House:\n",
      "      Movie ID                                  Movie Title Release Year  \\\n",
      "0            1     Harry Potter and the Philosopher's Stone   2001-01-01   \n",
      "1            1     Harry Potter and the Philosopher's Stone   2001-01-01   \n",
      "2            1     Harry Potter and the Philosopher's Stone   2001-01-01   \n",
      "3            1     Harry Potter and the Philosopher's Stone   2001-01-01   \n",
      "4            1     Harry Potter and the Philosopher's Stone   2001-01-01   \n",
      "...        ...                                          ...          ...   \n",
      "7435         8  Harry Potter and the Deathly Hallows Part 2   2011-01-01   \n",
      "7437         8  Harry Potter and the Deathly Hallows Part 2   2011-01-01   \n",
      "7439         8  Harry Potter and the Deathly Hallows Part 2   2011-01-01   \n",
      "7441         8  Harry Potter and the Deathly Hallows Part 2   2011-01-01   \n",
      "7442         8  Harry Potter and the Deathly Hallows Part 2   2011-01-01   \n",
      "\n",
      "      Runtime       Budget    Box Office  Chapter ID          Chapter Name  \\\n",
      "0         152  125000000.0  1.002000e+09           1     Doorstep Delivery   \n",
      "1         152  125000000.0  1.002000e+09           1     Doorstep Delivery   \n",
      "2         152  125000000.0  1.002000e+09           1     Doorstep Delivery   \n",
      "3         152  125000000.0  1.002000e+09           1     Doorstep Delivery   \n",
      "4         152  125000000.0  1.002000e+09           1     Doorstep Delivery   \n",
      "...       ...          ...           ...         ...                   ...   \n",
      "7435      130  250000000.0  1.342000e+09         234  Nineteen Years Later   \n",
      "7437      130  250000000.0  1.342000e+09         234  Nineteen Years Later   \n",
      "7439      130  250000000.0  1.342000e+09         234  Nineteen Years Later   \n",
      "7441      130  250000000.0  1.342000e+09         234  Nineteen Years Later   \n",
      "7442      130  250000000.0  1.342000e+09         234  Nineteen Years Later   \n",
      "\n",
      "      Movie Chapter  Dialogue ID  ...  Patronus  Wand (Wood)  \\\n",
      "0                 1            1  ...   Phoenix        Elder   \n",
      "1                 1            2  ...       Cat          Fir   \n",
      "2                 1            3  ...   Phoenix        Elder   \n",
      "3                 1            4  ...       Cat          Fir   \n",
      "4                 1            5  ...   Phoenix        Elder   \n",
      "...             ...          ...  ...       ...          ...   \n",
      "7435             26         7436  ...      Stag        Holly   \n",
      "7437             26         7438  ...      Stag        Holly   \n",
      "7439             26         7440  ...      Stag        Holly   \n",
      "7441             26         7442  ...      Stag        Holly   \n",
      "7442             26         7443  ...      Stag        Holly   \n",
      "\n",
      "             Wand (Core)                        Place Name  \\\n",
      "0     Thestral Tail Hair                    4 Privet Drive   \n",
      "1     Dragon Heartstring                    4 Privet Drive   \n",
      "2     Thestral Tail Hair                    4 Privet Drive   \n",
      "3     Dragon Heartstring                    4 Privet Drive   \n",
      "4     Thestral Tail Hair                    4 Privet Drive   \n",
      "...                  ...                               ...   \n",
      "7435     Phoenix Feather  Platform Nine and Three-Quarters   \n",
      "7437     Phoenix Feather  Platform Nine and Three-Quarters   \n",
      "7439     Phoenix Feather  Platform Nine and Three-Quarters   \n",
      "7441     Phoenix Feather  Platform Nine and Three-Quarters   \n",
      "7442     Phoenix Feather  Platform Nine and Three-Quarters   \n",
      "\n",
      "               Place Category Budget_Numeric BoxOffice_Numeric  \\\n",
      "0                   Dwellings    125000000.0      1.002000e+09   \n",
      "1                   Dwellings    125000000.0      1.002000e+09   \n",
      "2                   Dwellings    125000000.0      1.002000e+09   \n",
      "3                   Dwellings    125000000.0      1.002000e+09   \n",
      "4                   Dwellings    125000000.0      1.002000e+09   \n",
      "...                       ...            ...               ...   \n",
      "7435  Other Magical Locations    250000000.0      1.342000e+09   \n",
      "7437  Other Magical Locations    250000000.0      1.342000e+09   \n",
      "7439  Other Magical Locations    250000000.0      1.342000e+09   \n",
      "7441  Other Magical Locations    250000000.0      1.342000e+09   \n",
      "7442  Other Magical Locations    250000000.0      1.342000e+09   \n",
      "\n",
      "     BoxOffice_to_Budget Release Year Extracted Profit_Margin  \n",
      "0                  8.016                   2001         701.6  \n",
      "1                  8.016                   2001         701.6  \n",
      "2                  8.016                   2001         701.6  \n",
      "3                  8.016                   2001         701.6  \n",
      "4                  8.016                   2001         701.6  \n",
      "...                  ...                    ...           ...  \n",
      "7435               5.368                   2011         436.8  \n",
      "7437               5.368                   2011         436.8  \n",
      "7439               5.368                   2011         436.8  \n",
      "7441               5.368                   2011         436.8  \n",
      "7442               5.368                   2011         436.8  \n",
      "\n",
      "[5369 rows x 27 columns]\n"
     ]
    }
   ],
   "source": [
    "gryffindor_data = Harry_Potter[Harry_Potter[\"House\"] == \"Gryffindor\"]\n",
    "print(\"Rows with Gryffindor House:\")\n",
    "print(gryffindor_data)"
   ]
  },
  {
   "cell_type": "markdown",
   "id": "0a401f02-a30f-4317-b9d7-79ffc84b45b9",
   "metadata": {},
   "source": [
    "#### Sorting by release year"
   ]
  },
  {
   "cell_type": "code",
   "execution_count": 139,
   "id": "f572212b-aebc-4fcb-a44b-0be8f24de38f",
   "metadata": {},
   "outputs": [
    {
     "name": "stdout",
     "output_type": "stream",
     "text": [
      "Sorted by Release Year:\n",
      "     Movie ID                               Movie Title Release Year  Runtime  \\\n",
      "0           1  Harry Potter and the Philosopher's Stone   2001-01-01      152   \n",
      "584         1  Harry Potter and the Philosopher's Stone   2001-01-01      152   \n",
      "585         1  Harry Potter and the Philosopher's Stone   2001-01-01      152   \n",
      "586         1  Harry Potter and the Philosopher's Stone   2001-01-01      152   \n",
      "587         1  Harry Potter and the Philosopher's Stone   2001-01-01      152   \n",
      "\n",
      "          Budget    Box Office  Chapter ID          Chapter Name  \\\n",
      "0    125000000.0  1.002000e+09           1     Doorstep Delivery   \n",
      "584  125000000.0  1.002000e+09          23  The Mirror of Erised   \n",
      "585  125000000.0  1.002000e+09          23  The Mirror of Erised   \n",
      "586  125000000.0  1.002000e+09          23  The Mirror of Erised   \n",
      "587  125000000.0  1.002000e+09          23  The Mirror of Erised   \n",
      "\n",
      "     Movie Chapter  Dialogue ID  ...              Patronus  Wand (Wood)  \\\n",
      "0                1            1  ...               Phoenix        Elder   \n",
      "584             23          585  ...                  Stag        Holly   \n",
      "585             23          586  ...  Jack Russell Terrier          NaN   \n",
      "586             23          587  ...                  Stag        Holly   \n",
      "587             23          588  ...  Jack Russell Terrier          NaN   \n",
      "\n",
      "            Wand (Core)         Place Name Place Category Budget_Numeric  \\\n",
      "0    Thestral Tail Hair     4 Privet Drive      Dwellings    125000000.0   \n",
      "584     Phoenix Feather  Unknown Classroom       Hogwarts    125000000.0   \n",
      "585                 NaN  Unknown Classroom       Hogwarts    125000000.0   \n",
      "586     Phoenix Feather  Unknown Classroom       Hogwarts    125000000.0   \n",
      "587                 NaN  Unknown Classroom       Hogwarts    125000000.0   \n",
      "\n",
      "    BoxOffice_Numeric BoxOffice_to_Budget Release Year Extracted Profit_Margin  \n",
      "0        1.002000e+09               8.016                   2001         701.6  \n",
      "584      1.002000e+09               8.016                   2001         701.6  \n",
      "585      1.002000e+09               8.016                   2001         701.6  \n",
      "586      1.002000e+09               8.016                   2001         701.6  \n",
      "587      1.002000e+09               8.016                   2001         701.6  \n",
      "\n",
      "[5 rows x 27 columns]\n"
     ]
    }
   ],
   "source": [
    "sorted_data = Harry_Potter.sort_values(by=\"Release Year\")\n",
    "print(\"Sorted by Release Year:\")\n",
    "print(sorted_data.head())"
   ]
  },
  {
   "cell_type": "markdown",
   "id": "51788955-09d8-4b10-8fb3-b7777ba3e005",
   "metadata": {},
   "source": [
    "#### Example: Adding print statements to debug average runtime calculation"
   ]
  },
  {
   "cell_type": "code",
   "execution_count": 142,
   "id": "d8a790dd-270e-4f3b-bdd5-a2b66c512510",
   "metadata": {},
   "outputs": [
    {
     "name": "stdout",
     "output_type": "stream",
     "text": [
      "Calculating average runtime...\n",
      "Average runtime calculated: 147.55413756045138\n"
     ]
    },
    {
     "data": {
      "text/plain": [
       "147.55413756045138"
      ]
     },
     "execution_count": 142,
     "metadata": {},
     "output_type": "execute_result"
    }
   ],
   "source": [
    "def debug_average_runtime(data):\n",
    "    print(\"Calculating average runtime...\")\n",
    "    avg_runtime = data[\"Runtime\"].mean()\n",
    "    print(\"Average runtime calculated:\", avg_runtime)\n",
    "    return avg_runtime\n",
    "\n",
    "debug_average_runtime(Harry_Potter)"
   ]
  },
  {
   "cell_type": "markdown",
   "id": "2a81adee-69d9-4e7d-b757-0f89a24824ed",
   "metadata": {},
   "source": [
    "#### Tuple for a character's name, house, and wand type"
   ]
  },
  {
   "cell_type": "code",
   "execution_count": 145,
   "id": "d8da9ef9-34ea-412d-973d-c844652d0312",
   "metadata": {},
   "outputs": [
    {
     "name": "stdout",
     "output_type": "stream",
     "text": [
      "Character Tuple: ('Albus Dumbledore', 'Gryffindor', 'Elder')\n"
     ]
    }
   ],
   "source": [
    "character_tuple = tuple(Harry_Potter.loc[0, [\"Character Name\", \"House\", \"Wand (Wood)\"]])\n",
    "print(\"Character Tuple:\", character_tuple)"
   ]
  },
  {
   "cell_type": "markdown",
   "id": "0120e31d-b787-4148-befd-01b7ee99612e",
   "metadata": {},
   "source": [
    "#### List of all unique movie titles"
   ]
  },
  {
   "cell_type": "code",
   "execution_count": 148,
   "id": "cfaaffeb-bdbb-4578-8de4-49943f317975",
   "metadata": {},
   "outputs": [
    {
     "name": "stdout",
     "output_type": "stream",
     "text": [
      "Unique Movie Titles: [\"Harry Potter and the Philosopher's Stone\", 'Harry Potter and the Chamber of Secrets', 'Harry Potter and the Prisoner of Azkaban', 'Harry Potter and the Goblet of Fire', 'Harry Potter and the Order of the Phoenix', 'Harry Potter and the Half-Blood Prince', 'Harry Potter and the Deathly Hallows Part 1', 'Harry Potter and the Deathly Hallows Part 2']\n"
     ]
    }
   ],
   "source": [
    "unique_movie_titles = list(Harry_Potter[\"Movie Title\"].unique())\n",
    "print(\"Unique Movie Titles:\", unique_movie_titles)"
   ]
  },
  {
   "cell_type": "markdown",
   "id": "f24680f0-1058-42a2-a8d4-a92840bf9cc2",
   "metadata": {},
   "source": [
    "#### Dictionary mapping character names to their houses"
   ]
  },
  {
   "cell_type": "code",
   "execution_count": 151,
   "id": "9e836514-3d1b-432f-8dc7-df85a7947fe8",
   "metadata": {},
   "outputs": [
    {
     "name": "stdout",
     "output_type": "stream",
     "text": [
      "Character to House Dictionary: [('Albus Dumbledore', 'Gryffindor'), ('Minerva McGonagall', 'Gryffindor'), ('Rubeus Hagrid', 'Gryffindor'), ('Petunia Dursley', nan), ('Dudley Dursley', nan)]\n"
     ]
    }
   ],
   "source": [
    "character_house_dict = Harry_Potter.set_index(\"Character Name\")[\"House\"].to_dict()\n",
    "print(\"Character to House Dictionary:\", list(character_house_dict.items())[:5])  # Display first 5 entries"
   ]
  },
  {
   "cell_type": "markdown",
   "id": "81ebb284-1d22-4743-a95b-9c797eea34ee",
   "metadata": {},
   "source": [
    "#### Slicing to get the first 10 dialogues"
   ]
  },
  {
   "cell_type": "code",
   "execution_count": 154,
   "id": "6e0377a9-be24-47e7-8ab3-b25fc66e605c",
   "metadata": {},
   "outputs": [
    {
     "name": "stdout",
     "output_type": "stream",
     "text": [
      "First Ten Dialogues: ['I should have known that you would be here...Professor McGonagall.', 'Good evening, Professor Dumbledore. Are the rumours true, Albus?', \"I'm afraid so, Professor. The good, and the bad.\", 'And the boy?', 'Hagrid is bringing him.', 'Do you think it wise to trust Hagrid with something as important as this?', 'Ah, Professor, I would trust Hagrid with my life.', 'Professor Dumbledore, Sir. Professor McGonagall.', 'No problems, I trust, Hagrid?', 'No, sir. Little tyke fell asleep just as we were flying over Bristol. Heh. Try not to wake him. There you go.']\n"
     ]
    }
   ],
   "source": [
    "first_ten_dialogues = Harry_Potter[\"Dialogue\"][:10].tolist()\n",
    "print(\"First Ten Dialogues:\", first_ten_dialogues)"
   ]
  },
  {
   "cell_type": "markdown",
   "id": "045dd80f-e7f1-480e-afb1-8656f6238494",
   "metadata": {},
   "source": [
    "#### Filter dialogues by \"Albus Dumbledore\""
   ]
  },
  {
   "cell_type": "code",
   "execution_count": 157,
   "id": "65a9b90e-339c-461b-a777-e994f07af3ad",
   "metadata": {},
   "outputs": [
    {
     "name": "stdout",
     "output_type": "stream",
     "text": [
      "Dumbledore's Dialogues: ['I should have known that you would be here...Professor McGonagall.', \"I'm afraid so, Professor. The good, and the bad.\", 'Hagrid is bringing him.', 'Ah, Professor, I would trust Hagrid with my life.', 'No problems, I trust, Hagrid?']\n"
     ]
    }
   ],
   "source": [
    "dumbledore_dialogues = Harry_Potter[Harry_Potter[\"Character Name\"] == \"Albus Dumbledore\"][\"Dialogue\"].tolist()\n",
    "print(\"Dumbledore's Dialogues:\", dumbledore_dialogues[:5])  # Display first 5"
   ]
  },
  {
   "cell_type": "markdown",
   "id": "e5c0006e-8b18-49ed-99db-550cf18d8547",
   "metadata": {},
   "source": [
    "#### Sort by release year"
   ]
  },
  {
   "cell_type": "code",
   "execution_count": 160,
   "id": "ca0c8326-8610-4355-9296-b21fac409871",
   "metadata": {},
   "outputs": [
    {
     "name": "stdout",
     "output_type": "stream",
     "text": [
      "Movies Sorted by Release Year: [\"Harry Potter and the Philosopher's Stone\"\n",
      " 'Harry Potter and the Chamber of Secrets'\n",
      " 'Harry Potter and the Prisoner of Azkaban'\n",
      " 'Harry Potter and the Goblet of Fire'\n",
      " 'Harry Potter and the Order of the Phoenix'\n",
      " 'Harry Potter and the Half-Blood Prince'\n",
      " 'Harry Potter and the Deathly Hallows Part 1'\n",
      " 'Harry Potter and the Deathly Hallows Part 2']\n"
     ]
    }
   ],
   "source": [
    "sorted_by_release_year = Harry_Potter.sort_values(by=\"Release Year\")\n",
    "print(\"Movies Sorted by Release Year:\", sorted_by_release_year[\"Movie Title\"].unique())"
   ]
  },
  {
   "cell_type": "markdown",
   "id": "861e24bf-1982-4e36-9315-61abf91cfe11",
   "metadata": {},
   "source": [
    "#### Characters in Gryffindor"
   ]
  },
  {
   "cell_type": "code",
   "execution_count": 163,
   "id": "bb670778-85e9-4311-9af8-85ed611ae783",
   "metadata": {},
   "outputs": [
    {
     "name": "stdout",
     "output_type": "stream",
     "text": [
      "Gryffindor Characters: ['Albus Dumbledore', 'Minerva McGonagall', 'Rubeus Hagrid', 'Harry Potter', 'Molly Weasley', 'George Weasley', 'Fred Weasley', 'Ginny Weasley', 'Ron Weasley', 'Hermione Granger', 'Neville Longbottom', 'Seamus Finnigan', 'Percy Weasley', 'Nearly Headless Nick', 'Oliver Wood', 'Lee Jordan', 'Arthur Weasley', 'Colin Creevey', 'Dean Thomas', 'Remus Lupin', 'Parvati Patil', 'Sirius Black', 'Peter Pettigrew', 'Nigel Wolpert', 'James Potter', 'Lily Potter', 'Angelina Johnson', 'Lavender Brown', 'Katie Bell', 'Cormac McLaggen', 'Bill Weasley']\n"
     ]
    }
   ],
   "source": [
    "gryffindor_characters = [name for name, house in character_house_dict.items() if house == \"Gryffindor\"]\n",
    "print(\"Gryffindor Characters:\", gryffindor_characters)"
   ]
  },
  {
   "cell_type": "markdown",
   "id": "d38df79a-950b-447e-ae9d-05aafe454c04",
   "metadata": {},
   "source": [
    "#### Add a new character to the dictionary\n",
    "#### Remove a character"
   ]
  },
  {
   "cell_type": "code",
   "execution_count": 166,
   "id": "8d19e63a-2e8b-4abe-9718-2bc5e7badc91",
   "metadata": {},
   "outputs": [
    {
     "name": "stdout",
     "output_type": "stream",
     "text": [
      "Updated Character to House Dictionary: [('Albus Dumbledore', 'Gryffindor'), ('Minerva McGonagall', 'Gryffindor'), ('Rubeus Hagrid', 'Gryffindor'), ('Dudley Dursley', nan), ('Vernon Dursley', nan)]\n"
     ]
    }
   ],
   "source": [
    "character_house_dict[\"New Character\"] = \"Ravenclaw\"\n",
    "\n",
    "character_house_dict.pop(\"Petunia Dursley\", None)\n",
    "print(\"Updated Character to House Dictionary:\", list(character_house_dict.items())[:5])"
   ]
  },
  {
   "cell_type": "markdown",
   "id": "6f10ac49-aeb6-48b9-a13a-e6a1d4040b78",
   "metadata": {},
   "source": [
    "#### Checking the number of rows and columns"
   ]
  },
  {
   "cell_type": "code",
   "execution_count": 169,
   "id": "e80dc525-d9ba-4385-b1b2-bcf3de5d30d8",
   "metadata": {},
   "outputs": [
    {
     "name": "stdout",
     "output_type": "stream",
     "text": [
      "Shape of the dataset (Rows, Columns): (7444, 27)\n",
      "Column Names: Index(['Movie ID', 'Movie Title', 'Release Year', 'Runtime', 'Budget',\n",
      "       'Box Office', 'Chapter ID', 'Chapter Name', 'Movie Chapter',\n",
      "       'Dialogue ID', 'Place ID', 'Character ID', 'Dialogue', 'Character Name',\n",
      "       'Species', 'Gender', 'House', 'Patronus', 'Wand (Wood)', 'Wand (Core)',\n",
      "       'Place Name', 'Place Category', 'Budget_Numeric', 'BoxOffice_Numeric',\n",
      "       'BoxOffice_to_Budget', 'Release Year Extracted', 'Profit_Margin'],\n",
      "      dtype='object')\n",
      "Data Types of Columns:\n",
      "Movie ID                    int64\n",
      "Movie Title                object\n",
      "Release Year               object\n",
      "Runtime                     int64\n",
      "Budget                    float64\n",
      "Box Office                float64\n",
      "Chapter ID                  int64\n",
      "Chapter Name               object\n",
      "Movie Chapter               int64\n",
      "Dialogue ID                 int64\n",
      "Place ID                    int64\n",
      "Character ID                int64\n",
      "Dialogue                   object\n",
      "Character Name             object\n",
      "Species                    object\n",
      "Gender                     object\n",
      "House                      object\n",
      "Patronus                   object\n",
      "Wand (Wood)                object\n",
      "Wand (Core)                object\n",
      "Place Name                 object\n",
      "Place Category             object\n",
      "Budget_Numeric            float64\n",
      "BoxOffice_Numeric         float64\n",
      "BoxOffice_to_Budget       float64\n",
      "Release Year Extracted      int64\n",
      "Profit_Margin             float64\n",
      "dtype: object\n"
     ]
    }
   ],
   "source": [
    "print(\"Shape of the dataset (Rows, Columns):\", Harry_Potter.shape)\n",
    "\n",
    "# Column names\n",
    "print(\"Column Names:\", Harry_Potter.columns)\n",
    "\n",
    "# Data types of each column\n",
    "print(\"Data Types of Columns:\")\n",
    "print(Harry_Potter.dtypes)"
   ]
  },
  {
   "cell_type": "markdown",
   "id": "83062059-2fd6-44a0-a651-f9e488e6ca40",
   "metadata": {},
   "source": [
    "#### Summary statistics for numeric columns"
   ]
  },
  {
   "cell_type": "code",
   "execution_count": 172,
   "id": "844674b4-3922-4d32-a8c4-3e5dd419e11a",
   "metadata": {},
   "outputs": [
    {
     "name": "stdout",
     "output_type": "stream",
     "text": [
      "Summary Statistics for Numeric Columns:\n",
      "          Movie ID      Runtime        Budget    Box Office   Chapter ID  \\\n",
      "count  7444.000000  7444.000000  7.444000e+03  7.444000e+03  7444.000000   \n",
      "mean      4.493418   147.554138  1.687742e+08  9.624014e+08   125.360021   \n",
      "std       2.227027     9.332392  5.323946e+07  1.367243e+08    65.196349   \n",
      "min       1.000000   130.000000  1.000000e+08  7.967000e+08     1.000000   \n",
      "25%       2.000000   138.000000  1.250000e+08  8.803000e+08    70.000000   \n",
      "50%       5.000000   146.000000  1.500000e+08  9.420000e+08   136.000000   \n",
      "75%       6.000000   153.000000  2.000000e+08  9.769000e+08   180.000000   \n",
      "max       8.000000   161.000000  2.500000e+08  1.342000e+09   234.000000   \n",
      "\n",
      "       Movie Chapter  Dialogue ID     Place ID  Character ID  Budget_Numeric  \\\n",
      "count    7444.000000  7444.000000  7444.000000   7444.000000    7.444000e+03   \n",
      "mean       15.060586  3722.500000    37.737641     15.027942    1.687742e+08   \n",
      "std         8.637019  2149.042035    20.302226     26.330974    5.323946e+07   \n",
      "min         1.000000     1.000000     1.000000      1.000000    1.000000e+08   \n",
      "25%         8.000000  1861.750000    21.000000      1.000000    1.250000e+08   \n",
      "50%        15.000000  3722.500000    39.000000      4.000000    1.500000e+08   \n",
      "75%        21.000000  5583.250000    50.000000     17.000000    2.000000e+08   \n",
      "max        40.000000  7444.000000    74.000000    166.000000    2.500000e+08   \n",
      "\n",
      "       BoxOffice_Numeric  BoxOffice_to_Budget  Release Year Extracted  \\\n",
      "count       7.444000e+03          7444.000000             7444.000000   \n",
      "mean        9.624014e+08             6.135048             2006.148173   \n",
      "std         1.367243e+08             1.562221                3.414599   \n",
      "min         7.967000e+08             3.772800             2001.000000   \n",
      "25%         8.803000e+08             4.884500             2002.000000   \n",
      "50%         9.420000e+08             6.128462             2007.000000   \n",
      "75%         9.769000e+08             8.016000             2009.000000   \n",
      "max         1.342000e+09             8.803000             2011.000000   \n",
      "\n",
      "       Profit_Margin  \n",
      "count    7444.000000  \n",
      "mean      513.504764  \n",
      "std       156.222123  \n",
      "min       277.280000  \n",
      "25%       388.450000  \n",
      "50%       512.846154  \n",
      "75%       701.600000  \n",
      "max       780.300000  \n"
     ]
    }
   ],
   "source": [
    "# Summary statistics for numeric columns\n",
    "print(\"Summary Statistics for Numeric Columns:\")\n",
    "print(Harry_Potter.describe())"
   ]
  },
  {
   "cell_type": "markdown",
   "id": "6a3081fb-a8fd-4f10-adf3-27c3673f7b85",
   "metadata": {},
   "source": [
    "#### Summary statistics for non-numeric columns"
   ]
  },
  {
   "cell_type": "code",
   "execution_count": 175,
   "id": "0e3aaf06-2201-4c58-97a6-9932940b9421",
   "metadata": {},
   "outputs": [
    {
     "name": "stdout",
     "output_type": "stream",
     "text": [
      "Summary Statistics for Non-Numeric Columns:\n",
      "                                      Movie Title Release Year Chapter Name  \\\n",
      "count                                        7444         7444         7444   \n",
      "unique                                          8            8          232   \n",
      "top     Harry Potter and the Order of the Phoenix   2007-01-01    Horcruxes   \n",
      "freq                                         1157         1157          125   \n",
      "\n",
      "       Dialogue Character Name Species Gender       House Patronus  \\\n",
      "count      7444           7444    7280   7280        6527     4951   \n",
      "unique     6907            166      13      3           6       17   \n",
      "top        Yes.   Harry Potter   Human   Male  Gryffindor     Stag   \n",
      "freq         28           1922    6713   5647        5369     1939   \n",
      "\n",
      "       Wand (Wood)      Wand (Core)  Place Name Place Category  \n",
      "count         4600             4339        7444           7444  \n",
      "unique          19                4          74              5  \n",
      "top          Holly  Phoenix Feather  Great Hall       Hogwarts  \n",
      "freq          1922             2101         557           4504  \n"
     ]
    }
   ],
   "source": [
    "print(\"Summary Statistics for Non-Numeric Columns:\")\n",
    "print(Harry_Potter.describe(include='object'))"
   ]
  },
  {
   "cell_type": "markdown",
   "id": "8389f4fc-ec6b-4445-b397-471a3de9599d",
   "metadata": {},
   "source": [
    "#### Converting 'Budget' and 'Box Office' columns to numeric after removing '$' and commas"
   ]
  },
  {
   "cell_type": "code",
   "execution_count": 178,
   "id": "881a1287-66d3-43b8-9a57-e3da297123f8",
   "metadata": {},
   "outputs": [
    {
     "name": "stdout",
     "output_type": "stream",
     "text": [
      "First Few Rows with the New Column:\n",
      "                                Movie Title  Budget_Numeric  \\\n",
      "0  Harry Potter and the Philosopher's Stone     125000000.0   \n",
      "1  Harry Potter and the Philosopher's Stone     125000000.0   \n",
      "2  Harry Potter and the Philosopher's Stone     125000000.0   \n",
      "3  Harry Potter and the Philosopher's Stone     125000000.0   \n",
      "4  Harry Potter and the Philosopher's Stone     125000000.0   \n",
      "\n",
      "   BoxOffice_Numeric  BoxOffice_to_Budget  \n",
      "0       1.002000e+09                8.016  \n",
      "1       1.002000e+09                8.016  \n",
      "2       1.002000e+09                8.016  \n",
      "3       1.002000e+09                8.016  \n",
      "4       1.002000e+09                8.016  \n"
     ]
    }
   ],
   "source": [
    "Harry_Potter['Budget_Numeric'] = Harry_Potter['Budget'].replace(r'[\\$,]', '', regex=True).astype(float)\n",
    "Harry_Potter['BoxOffice_Numeric'] = Harry_Potter['Box Office'].replace(r'[\\$,]', '', regex=True).astype(float)\n",
    "\n",
    "# Creating a new column for the ratio of Box Office to Budget\n",
    "Harry_Potter['BoxOffice_to_Budget'] = Harry_Potter['BoxOffice_Numeric'] / Harry_Potter['Budget_Numeric']\n",
    "\n",
    "# Displaying the first few rows with the new column\n",
    "print(\"First Few Rows with the New Column:\")\n",
    "print(Harry_Potter[['Movie Title', 'Budget_Numeric', 'BoxOffice_Numeric', 'BoxOffice_to_Budget']].head())"
   ]
  },
  {
   "cell_type": "markdown",
   "id": "2d71057f-180e-4a45-b129-29a2d029b8f2",
   "metadata": {},
   "source": [
    "#### Using loc to select specific rows and columns by label"
   ]
  },
  {
   "cell_type": "code",
   "execution_count": 181,
   "id": "bf56b1f1-d1f3-4f4b-9f09-28ad73345d33",
   "metadata": {},
   "outputs": [
    {
     "name": "stdout",
     "output_type": "stream",
     "text": [
      "Subset of Data Using loc:\n",
      "                                Movie Title Release Year  Runtime\n",
      "0  Harry Potter and the Philosopher's Stone   2001-01-01      152\n",
      "1  Harry Potter and the Philosopher's Stone   2001-01-01      152\n",
      "2  Harry Potter and the Philosopher's Stone   2001-01-01      152\n",
      "3  Harry Potter and the Philosopher's Stone   2001-01-01      152\n",
      "4  Harry Potter and the Philosopher's Stone   2001-01-01      152\n"
     ]
    }
   ],
   "source": [
    "selected_data_loc = Harry_Potter.loc[0:4, ['Movie Title', 'Release Year', 'Runtime']]\n",
    "print(\"Subset of Data Using loc:\")\n",
    "print(selected_data_loc)"
   ]
  },
  {
   "cell_type": "markdown",
   "id": "43faebc7-93f0-4149-a10a-8cc756ac7a8b",
   "metadata": {},
   "source": [
    "#### Using iloc to select specific rows and columns by position"
   ]
  },
  {
   "cell_type": "code",
   "execution_count": 184,
   "id": "5930701a-6009-4aad-8794-af6e98031599",
   "metadata": {},
   "outputs": [
    {
     "name": "stdout",
     "output_type": "stream",
     "text": [
      "Subset of Data Using iloc:\n",
      "   Movie ID                               Movie Title Release Year\n",
      "0         1  Harry Potter and the Philosopher's Stone   2001-01-01\n",
      "1         1  Harry Potter and the Philosopher's Stone   2001-01-01\n",
      "2         1  Harry Potter and the Philosopher's Stone   2001-01-01\n",
      "3         1  Harry Potter and the Philosopher's Stone   2001-01-01\n",
      "4         1  Harry Potter and the Philosopher's Stone   2001-01-01\n"
     ]
    }
   ],
   "source": [
    "selected_data_iloc = Harry_Potter.iloc[0:5, 0:3]\n",
    "print(\"Subset of Data Using iloc:\")\n",
    "print(selected_data_iloc)"
   ]
  },
  {
   "cell_type": "markdown",
   "id": "b3da3bbc-adc2-46a9-9b2b-99d118fcffbb",
   "metadata": {},
   "source": [
    "#### Movie with the maximum runtime"
   ]
  },
  {
   "cell_type": "code",
   "execution_count": 187,
   "id": "75cc3dc8-bb54-41b0-ade0-2a61748cdcd5",
   "metadata": {},
   "outputs": [
    {
     "name": "stdout",
     "output_type": "stream",
     "text": [
      "Movie with Maximum Runtime:\n",
      "Movie Title    Harry Potter and the Chamber of Secrets\n",
      "Runtime                                            161\n",
      "Name: 885, dtype: object\n"
     ]
    }
   ],
   "source": [
    "max_runtime_movie = Harry_Potter.iloc[Harry_Potter['Runtime'].idxmax()]\n",
    "print(\"Movie with Maximum Runtime:\")\n",
    "print(max_runtime_movie[['Movie Title', 'Runtime']])"
   ]
  },
  {
   "cell_type": "markdown",
   "id": "96c13dae-6cd2-40a9-bc08-eaaa5aaceb47",
   "metadata": {},
   "source": [
    "#### Movie with the minimum runtime"
   ]
  },
  {
   "cell_type": "code",
   "execution_count": 190,
   "id": "14dd83c4-7eb5-4cd7-af08-62e5d0fa798c",
   "metadata": {},
   "outputs": [
    {
     "name": "stdout",
     "output_type": "stream",
     "text": [
      "Movie with Minimum Runtime:\n",
      "Movie Title    Harry Potter and the Deathly Hallows Part 2\n",
      "Runtime                                                130\n",
      "Name: 6732, dtype: object\n"
     ]
    }
   ],
   "source": [
    "min_runtime_movie = Harry_Potter.iloc[Harry_Potter['Runtime'].idxmin()]\n",
    "print(\"Movie with Minimum Runtime:\")\n",
    "print(min_runtime_movie[['Movie Title', 'Runtime']])"
   ]
  },
  {
   "cell_type": "markdown",
   "id": "c71304ac-1ed0-46d7-b867-20df3cd6a842",
   "metadata": {},
   "source": [
    "#### Converting 'Release Year' to datetime format"
   ]
  },
  {
   "cell_type": "code",
   "execution_count": 195,
   "id": "d0707186-a1fe-4445-b36f-2942f70d366d",
   "metadata": {},
   "outputs": [
    {
     "name": "stdout",
     "output_type": "stream",
     "text": [
      "Data with Converted 'Release Year':\n"
     ]
    },
    {
     "data": {
      "text/html": [
       "<div>\n",
       "<style scoped>\n",
       "    .dataframe tbody tr th:only-of-type {\n",
       "        vertical-align: middle;\n",
       "    }\n",
       "\n",
       "    .dataframe tbody tr th {\n",
       "        vertical-align: top;\n",
       "    }\n",
       "\n",
       "    .dataframe thead th {\n",
       "        text-align: right;\n",
       "    }\n",
       "</style>\n",
       "<table border=\"1\" class=\"dataframe\">\n",
       "  <thead>\n",
       "    <tr style=\"text-align: right;\">\n",
       "      <th></th>\n",
       "      <th>Movie Title</th>\n",
       "      <th>Release Year</th>\n",
       "      <th>Release Year Extracted</th>\n",
       "    </tr>\n",
       "  </thead>\n",
       "  <tbody>\n",
       "    <tr>\n",
       "      <th>0</th>\n",
       "      <td>Harry Potter and the Philosopher's Stone</td>\n",
       "      <td>NaT</td>\n",
       "      <td>NaN</td>\n",
       "    </tr>\n",
       "    <tr>\n",
       "      <th>1</th>\n",
       "      <td>Harry Potter and the Philosopher's Stone</td>\n",
       "      <td>NaT</td>\n",
       "      <td>NaN</td>\n",
       "    </tr>\n",
       "    <tr>\n",
       "      <th>2</th>\n",
       "      <td>Harry Potter and the Philosopher's Stone</td>\n",
       "      <td>NaT</td>\n",
       "      <td>NaN</td>\n",
       "    </tr>\n",
       "    <tr>\n",
       "      <th>3</th>\n",
       "      <td>Harry Potter and the Philosopher's Stone</td>\n",
       "      <td>NaT</td>\n",
       "      <td>NaN</td>\n",
       "    </tr>\n",
       "    <tr>\n",
       "      <th>4</th>\n",
       "      <td>Harry Potter and the Philosopher's Stone</td>\n",
       "      <td>NaT</td>\n",
       "      <td>NaN</td>\n",
       "    </tr>\n",
       "  </tbody>\n",
       "</table>\n",
       "</div>"
      ],
      "text/plain": [
       "                                Movie Title Release Year  \\\n",
       "0  Harry Potter and the Philosopher's Stone          NaT   \n",
       "1  Harry Potter and the Philosopher's Stone          NaT   \n",
       "2  Harry Potter and the Philosopher's Stone          NaT   \n",
       "3  Harry Potter and the Philosopher's Stone          NaT   \n",
       "4  Harry Potter and the Philosopher's Stone          NaT   \n",
       "\n",
       "   Release Year Extracted  \n",
       "0                     NaN  \n",
       "1                     NaN  \n",
       "2                     NaN  \n",
       "3                     NaN  \n",
       "4                     NaN  "
      ]
     },
     "execution_count": 195,
     "metadata": {},
     "output_type": "execute_result"
    }
   ],
   "source": [
    "# If 'Release Year' is already just a year (as integer or string), convert it to numeric type\n",
    "Harry_Potter['Release Year'] = pd.to_numeric(Harry_Potter['Release Year'], errors='coerce')\n",
    "\n",
    "# If you need to keep the year as a datetime object\n",
    "Harry_Potter['Release Year'] = pd.to_datetime(Harry_Potter['Release Year'], format='%Y', errors='coerce')\n",
    "Harry_Potter['Release Year Extracted'] = Harry_Potter['Release Year'].dt.year\n",
    "\n",
    "print(\"Data with Converted 'Release Year':\")\n",
    "Harry_Potter[['Movie Title', 'Release Year', 'Release Year Extracted']].head()"
   ]
  },
  {
   "cell_type": "markdown",
   "id": "5da483ee-5f39-408d-b4d3-4dbf496e9a74",
   "metadata": {},
   "source": [
    "#### Exporting the modified dataset to a new CSV file"
   ]
  },
  {
   "cell_type": "code",
   "execution_count": 198,
   "id": "1d74b753-f9bc-4ed5-bc6f-9a7f8529a0d9",
   "metadata": {},
   "outputs": [
    {
     "name": "stdout",
     "output_type": "stream",
     "text": [
      "Modified dataset exported as 'HarryPotterModified.csv'\n"
     ]
    }
   ],
   "source": [
    "Harry_Potter.to_csv('HarryPotterDataset.csv', index=False)\n",
    "print(\"Modified dataset exported as 'HarryPotterModified.csv'\")"
   ]
  },
  {
   "cell_type": "markdown",
   "id": "8a2fdeb5-5c5e-466f-aaa4-e4325739c3e2",
   "metadata": {},
   "source": [
    "# Data Cleaning and Preparation, Data Manipulation & Analysis"
   ]
  },
  {
   "cell_type": "markdown",
   "id": "233ce1bc-08ea-4f59-9ac1-1de6c778d991",
   "metadata": {},
   "source": [
    "#### Data Cleaning and Preparation"
   ]
  },
  {
   "cell_type": "code",
   "execution_count": 202,
   "id": "008574dd-8545-46dd-9e38-c670ef4bbd7f",
   "metadata": {},
   "outputs": [
    {
     "name": "stdout",
     "output_type": "stream",
     "text": [
      "\n",
      "Missing values in Harry Potter Dataset:\n",
      "Release Year              7444\n",
      "Species                    164\n",
      "Gender                     164\n",
      "House                      917\n",
      "Patronus                  2493\n",
      "Wand (Wood)               2844\n",
      "Wand (Core)               3105\n",
      "Release Year Extracted    7444\n",
      "dtype: int64\n"
     ]
    }
   ],
   "source": [
    "# Function to check for missing values\n",
    "def check_missing_values(Harry_Potter, name):\n",
    "    missing_values = Harry_Potter.isnull().sum()\n",
    "    print(f\"\\nMissing values in {name}:\")\n",
    "    print(missing_values[missing_values > 0])  # Only show columns with missing values\n",
    "\n",
    "# Check for missing values in the Harry Potter dataset\n",
    "check_missing_values(Harry_Potter, \"Harry Potter Dataset\")"
   ]
  },
  {
   "cell_type": "markdown",
   "id": "48d635f6-b53d-4da7-a894-e463549e6664",
   "metadata": {},
   "source": [
    "#### Data Manipulation"
   ]
  },
  {
   "cell_type": "code",
   "execution_count": 205,
   "id": "0ded7066-534f-45f4-8629-1de9103037f1",
   "metadata": {},
   "outputs": [
    {
     "data": {
      "text/html": [
       "<div>\n",
       "<style scoped>\n",
       "    .dataframe tbody tr th:only-of-type {\n",
       "        vertical-align: middle;\n",
       "    }\n",
       "\n",
       "    .dataframe tbody tr th {\n",
       "        vertical-align: top;\n",
       "    }\n",
       "\n",
       "    .dataframe thead th {\n",
       "        text-align: right;\n",
       "    }\n",
       "</style>\n",
       "<table border=\"1\" class=\"dataframe\">\n",
       "  <thead>\n",
       "    <tr style=\"text-align: right;\">\n",
       "      <th></th>\n",
       "      <th>Movie Title</th>\n",
       "      <th>Budget</th>\n",
       "      <th>Box Office</th>\n",
       "      <th>Profit_Margin</th>\n",
       "    </tr>\n",
       "  </thead>\n",
       "  <tbody>\n",
       "    <tr>\n",
       "      <th>0</th>\n",
       "      <td>Harry Potter and the Philosopher's Stone</td>\n",
       "      <td>125000000.0</td>\n",
       "      <td>1.002000e+09</td>\n",
       "      <td>701.6</td>\n",
       "    </tr>\n",
       "    <tr>\n",
       "      <th>1</th>\n",
       "      <td>Harry Potter and the Philosopher's Stone</td>\n",
       "      <td>125000000.0</td>\n",
       "      <td>1.002000e+09</td>\n",
       "      <td>701.6</td>\n",
       "    </tr>\n",
       "    <tr>\n",
       "      <th>2</th>\n",
       "      <td>Harry Potter and the Philosopher's Stone</td>\n",
       "      <td>125000000.0</td>\n",
       "      <td>1.002000e+09</td>\n",
       "      <td>701.6</td>\n",
       "    </tr>\n",
       "    <tr>\n",
       "      <th>3</th>\n",
       "      <td>Harry Potter and the Philosopher's Stone</td>\n",
       "      <td>125000000.0</td>\n",
       "      <td>1.002000e+09</td>\n",
       "      <td>701.6</td>\n",
       "    </tr>\n",
       "    <tr>\n",
       "      <th>4</th>\n",
       "      <td>Harry Potter and the Philosopher's Stone</td>\n",
       "      <td>125000000.0</td>\n",
       "      <td>1.002000e+09</td>\n",
       "      <td>701.6</td>\n",
       "    </tr>\n",
       "    <tr>\n",
       "      <th>...</th>\n",
       "      <td>...</td>\n",
       "      <td>...</td>\n",
       "      <td>...</td>\n",
       "      <td>...</td>\n",
       "    </tr>\n",
       "    <tr>\n",
       "      <th>7439</th>\n",
       "      <td>Harry Potter and the Deathly Hallows Part 2</td>\n",
       "      <td>250000000.0</td>\n",
       "      <td>1.342000e+09</td>\n",
       "      <td>436.8</td>\n",
       "    </tr>\n",
       "    <tr>\n",
       "      <th>7440</th>\n",
       "      <td>Harry Potter and the Deathly Hallows Part 2</td>\n",
       "      <td>250000000.0</td>\n",
       "      <td>1.342000e+09</td>\n",
       "      <td>436.8</td>\n",
       "    </tr>\n",
       "    <tr>\n",
       "      <th>7441</th>\n",
       "      <td>Harry Potter and the Deathly Hallows Part 2</td>\n",
       "      <td>250000000.0</td>\n",
       "      <td>1.342000e+09</td>\n",
       "      <td>436.8</td>\n",
       "    </tr>\n",
       "    <tr>\n",
       "      <th>7442</th>\n",
       "      <td>Harry Potter and the Deathly Hallows Part 2</td>\n",
       "      <td>250000000.0</td>\n",
       "      <td>1.342000e+09</td>\n",
       "      <td>436.8</td>\n",
       "    </tr>\n",
       "    <tr>\n",
       "      <th>7443</th>\n",
       "      <td>Harry Potter and the Deathly Hallows Part 2</td>\n",
       "      <td>250000000.0</td>\n",
       "      <td>1.342000e+09</td>\n",
       "      <td>436.8</td>\n",
       "    </tr>\n",
       "  </tbody>\n",
       "</table>\n",
       "<p>7444 rows × 4 columns</p>\n",
       "</div>"
      ],
      "text/plain": [
       "                                      Movie Title       Budget    Box Office  \\\n",
       "0        Harry Potter and the Philosopher's Stone  125000000.0  1.002000e+09   \n",
       "1        Harry Potter and the Philosopher's Stone  125000000.0  1.002000e+09   \n",
       "2        Harry Potter and the Philosopher's Stone  125000000.0  1.002000e+09   \n",
       "3        Harry Potter and the Philosopher's Stone  125000000.0  1.002000e+09   \n",
       "4        Harry Potter and the Philosopher's Stone  125000000.0  1.002000e+09   \n",
       "...                                           ...          ...           ...   \n",
       "7439  Harry Potter and the Deathly Hallows Part 2  250000000.0  1.342000e+09   \n",
       "7440  Harry Potter and the Deathly Hallows Part 2  250000000.0  1.342000e+09   \n",
       "7441  Harry Potter and the Deathly Hallows Part 2  250000000.0  1.342000e+09   \n",
       "7442  Harry Potter and the Deathly Hallows Part 2  250000000.0  1.342000e+09   \n",
       "7443  Harry Potter and the Deathly Hallows Part 2  250000000.0  1.342000e+09   \n",
       "\n",
       "      Profit_Margin  \n",
       "0             701.6  \n",
       "1             701.6  \n",
       "2             701.6  \n",
       "3             701.6  \n",
       "4             701.6  \n",
       "...             ...  \n",
       "7439          436.8  \n",
       "7440          436.8  \n",
       "7441          436.8  \n",
       "7442          436.8  \n",
       "7443          436.8  \n",
       "\n",
       "[7444 rows x 4 columns]"
      ]
     },
     "execution_count": 205,
     "metadata": {},
     "output_type": "execute_result"
    }
   ],
   "source": [
    "# Convert 'Budget' and 'Box Office' to string types first, if necessary\n",
    "Harry_Potter['Budget'] = Harry_Potter['Budget'].astype(str).str.replace('$', '').str.replace(',', '')\n",
    "Harry_Potter['Box Office'] = Harry_Potter['Box Office'].astype(str).str.replace('$', '').str.replace(',', '')\n",
    "\n",
    "# Convert cleaned strings to float\n",
    "Harry_Potter['Budget'] = Harry_Potter['Budget'].astype(float)\n",
    "Harry_Potter['Box Office'] = Harry_Potter['Box Office'].astype(float)\n",
    "\n",
    "# Calculate profit margin for each movie\n",
    "Harry_Potter['Profit_Margin'] = (Harry_Potter['Box Office'] - Harry_Potter['Budget']) / Harry_Potter['Budget'] * 100\n",
    "\n",
    "# Print the results\n",
    "Harry_Potter[['Movie Title', 'Budget', 'Box Office', 'Profit_Margin']]"
   ]
  },
  {
   "cell_type": "markdown",
   "id": "3af831bc-e4ea-4d26-9020-deb3fb3c68d9",
   "metadata": {},
   "source": [
    "#### HarryPotter \"Character\" Analysis"
   ]
  },
  {
   "cell_type": "code",
   "execution_count": 208,
   "id": "1190d6e5-6871-44b5-9101-2e6acaba7bc5",
   "metadata": {},
   "outputs": [
    {
     "name": "stdout",
     "output_type": "stream",
     "text": [
      "\n",
      "Character distribution by house:\n"
     ]
    },
    {
     "data": {
      "text/plain": [
       "House\n",
       "Gryffindor                      5369\n",
       "Slytherin                        860\n",
       "Ravenclaw                        222\n",
       "Hufflepuff                        56\n",
       "Beauxbatons Academy of Magic      15\n",
       "Durmstrang Institute               5\n",
       "Name: count, dtype: int64"
      ]
     },
     "execution_count": 208,
     "metadata": {},
     "output_type": "execute_result"
    }
   ],
   "source": [
    "# Count characters by house\n",
    "house_distribution = Harry_Potter['House'].value_counts()\n",
    "print(\"\\nCharacter distribution by house:\")\n",
    "house_distribution"
   ]
  },
  {
   "cell_type": "markdown",
   "id": "2651d3dd-5275-4f10-8ec3-bca77ac7a3b3",
   "metadata": {},
   "source": [
    "#### HarryPotter \"Dialogue\" Analysis"
   ]
  },
  {
   "cell_type": "code",
   "execution_count": 211,
   "id": "c2526ef9-b442-4211-b5f3-d173249b9454",
   "metadata": {},
   "outputs": [
    {
     "name": "stdout",
     "output_type": "stream",
     "text": [
      "\n",
      "Top 5 characters with most dialogue:\n"
     ]
    },
    {
     "data": {
      "text/html": [
       "<div>\n",
       "<style scoped>\n",
       "    .dataframe tbody tr th:only-of-type {\n",
       "        vertical-align: middle;\n",
       "    }\n",
       "\n",
       "    .dataframe tbody tr th {\n",
       "        vertical-align: top;\n",
       "    }\n",
       "\n",
       "    .dataframe thead th {\n",
       "        text-align: right;\n",
       "    }\n",
       "</style>\n",
       "<table border=\"1\" class=\"dataframe\">\n",
       "  <thead>\n",
       "    <tr style=\"text-align: right;\">\n",
       "      <th></th>\n",
       "      <th>Character Name</th>\n",
       "      <th>Dialogue Count</th>\n",
       "    </tr>\n",
       "  </thead>\n",
       "  <tbody>\n",
       "    <tr>\n",
       "      <th>0</th>\n",
       "      <td>Harry Potter</td>\n",
       "      <td>1922</td>\n",
       "    </tr>\n",
       "    <tr>\n",
       "      <th>1922</th>\n",
       "      <td>Ron Weasley</td>\n",
       "      <td>865</td>\n",
       "    </tr>\n",
       "    <tr>\n",
       "      <th>2787</th>\n",
       "      <td>Hermione Granger</td>\n",
       "      <td>848</td>\n",
       "    </tr>\n",
       "    <tr>\n",
       "      <th>3635</th>\n",
       "      <td>Albus Dumbledore</td>\n",
       "      <td>474</td>\n",
       "    </tr>\n",
       "    <tr>\n",
       "      <th>4109</th>\n",
       "      <td>Rubeus Hagrid</td>\n",
       "      <td>228</td>\n",
       "    </tr>\n",
       "  </tbody>\n",
       "</table>\n",
       "</div>"
      ],
      "text/plain": [
       "        Character Name  Dialogue Count\n",
       "0         Harry Potter            1922\n",
       "1922       Ron Weasley             865\n",
       "2787  Hermione Granger             848\n",
       "3635  Albus Dumbledore             474\n",
       "4109     Rubeus Hagrid             228"
      ]
     },
     "execution_count": 211,
     "metadata": {},
     "output_type": "execute_result"
    }
   ],
   "source": [
    "# Count number of dialogues per character\n",
    "dialogue_counts = Harry_Potter['Character ID'].value_counts().reset_index()\n",
    "dialogue_counts.columns = ['Character ID', 'Dialogue Count']\n",
    "\n",
    "# Merge with character names\n",
    "character_dialogue = pd.merge(\n",
    "    dialogue_counts,\n",
    "    Harry_Potter[['Character ID', 'Character Name']],\n",
    "    on='Character ID',\n",
    "    how='left'\n",
    ").drop_duplicates()\n",
    "\n",
    "# Print top 5 characters with most dialogue\n",
    "print(\"\\nTop 5 characters with most dialogue:\")\n",
    "character_dialogue[['Character Name', 'Dialogue Count']].head()"
   ]
  },
  {
   "cell_type": "markdown",
   "id": "de185e22-ad87-4f47-87e9-52c1cf0b0f62",
   "metadata": {},
   "source": [
    "#### HarryPotter \"Location\" Analysis"
   ]
  },
  {
   "cell_type": "code",
   "execution_count": 214,
   "id": "614a13f2-9d69-4ccd-adf7-d3e610d0afb0",
   "metadata": {},
   "outputs": [
    {
     "name": "stdout",
     "output_type": "stream",
     "text": [
      "\n",
      "Scene distribution by place category:\n"
     ]
    },
    {
     "data": {
      "text/plain": [
       "Place Category\n",
       "Hogwarts                   4504\n",
       "Dwellings                  1408\n",
       "Other Magical Locations     953\n",
       "Diagon Alley                304\n",
       "Hogsmeade                   275\n",
       "Name: count, dtype: int64"
      ]
     },
     "execution_count": 214,
     "metadata": {},
     "output_type": "execute_result"
    }
   ],
   "source": [
    "# Count scenes by place category\n",
    "place_categories = Harry_Potter['Place Category'].value_counts()\n",
    "print(\"\\nScene distribution by place category:\")\n",
    "place_categories"
   ]
  },
  {
   "cell_type": "markdown",
   "id": "91e43273-a8d5-4be1-aadc-2602fbea96b0",
   "metadata": {},
   "source": [
    "#### HarryPotter \"Movie Performance\" Analysis "
   ]
  },
  {
   "cell_type": "code",
   "execution_count": 217,
   "id": "ac03831e-aaae-41e9-9d00-c410414b0195",
   "metadata": {},
   "outputs": [
    {
     "name": "stdout",
     "output_type": "stream",
     "text": [
      "\n",
      "Movies ranked by box office revenue:\n"
     ]
    },
    {
     "data": {
      "text/html": [
       "<div>\n",
       "<style scoped>\n",
       "    .dataframe tbody tr th:only-of-type {\n",
       "        vertical-align: middle;\n",
       "    }\n",
       "\n",
       "    .dataframe tbody tr th {\n",
       "        vertical-align: top;\n",
       "    }\n",
       "\n",
       "    .dataframe thead th {\n",
       "        text-align: right;\n",
       "    }\n",
       "</style>\n",
       "<table border=\"1\" class=\"dataframe\">\n",
       "  <thead>\n",
       "    <tr style=\"text-align: right;\">\n",
       "      <th></th>\n",
       "      <th>Movie Title</th>\n",
       "      <th>Box Office</th>\n",
       "      <th>Budget</th>\n",
       "      <th>Profit_Margin</th>\n",
       "    </tr>\n",
       "  </thead>\n",
       "  <tbody>\n",
       "    <tr>\n",
       "      <th>7443</th>\n",
       "      <td>Harry Potter and the Deathly Hallows Part 2</td>\n",
       "      <td>1.342000e+09</td>\n",
       "      <td>250000000.0</td>\n",
       "      <td>436.800000</td>\n",
       "    </tr>\n",
       "    <tr>\n",
       "      <th>6953</th>\n",
       "      <td>Harry Potter and the Deathly Hallows Part 2</td>\n",
       "      <td>1.342000e+09</td>\n",
       "      <td>250000000.0</td>\n",
       "      <td>436.800000</td>\n",
       "    </tr>\n",
       "    <tr>\n",
       "      <th>6973</th>\n",
       "      <td>Harry Potter and the Deathly Hallows Part 2</td>\n",
       "      <td>1.342000e+09</td>\n",
       "      <td>250000000.0</td>\n",
       "      <td>436.800000</td>\n",
       "    </tr>\n",
       "    <tr>\n",
       "      <th>6972</th>\n",
       "      <td>Harry Potter and the Deathly Hallows Part 2</td>\n",
       "      <td>1.342000e+09</td>\n",
       "      <td>250000000.0</td>\n",
       "      <td>436.800000</td>\n",
       "    </tr>\n",
       "    <tr>\n",
       "      <th>6971</th>\n",
       "      <td>Harry Potter and the Deathly Hallows Part 2</td>\n",
       "      <td>1.342000e+09</td>\n",
       "      <td>250000000.0</td>\n",
       "      <td>436.800000</td>\n",
       "    </tr>\n",
       "    <tr>\n",
       "      <th>...</th>\n",
       "      <td>...</td>\n",
       "      <td>...</td>\n",
       "      <td>...</td>\n",
       "      <td>...</td>\n",
       "    </tr>\n",
       "    <tr>\n",
       "      <th>2167</th>\n",
       "      <td>Harry Potter and the Prisoner of Azkaban</td>\n",
       "      <td>7.967000e+08</td>\n",
       "      <td>130000000.0</td>\n",
       "      <td>512.846154</td>\n",
       "    </tr>\n",
       "    <tr>\n",
       "      <th>2168</th>\n",
       "      <td>Harry Potter and the Prisoner of Azkaban</td>\n",
       "      <td>7.967000e+08</td>\n",
       "      <td>130000000.0</td>\n",
       "      <td>512.846154</td>\n",
       "    </tr>\n",
       "    <tr>\n",
       "      <th>2169</th>\n",
       "      <td>Harry Potter and the Prisoner of Azkaban</td>\n",
       "      <td>7.967000e+08</td>\n",
       "      <td>130000000.0</td>\n",
       "      <td>512.846154</td>\n",
       "    </tr>\n",
       "    <tr>\n",
       "      <th>2170</th>\n",
       "      <td>Harry Potter and the Prisoner of Azkaban</td>\n",
       "      <td>7.967000e+08</td>\n",
       "      <td>130000000.0</td>\n",
       "      <td>512.846154</td>\n",
       "    </tr>\n",
       "    <tr>\n",
       "      <th>2523</th>\n",
       "      <td>Harry Potter and the Prisoner of Azkaban</td>\n",
       "      <td>7.967000e+08</td>\n",
       "      <td>130000000.0</td>\n",
       "      <td>512.846154</td>\n",
       "    </tr>\n",
       "  </tbody>\n",
       "</table>\n",
       "<p>7444 rows × 4 columns</p>\n",
       "</div>"
      ],
      "text/plain": [
       "                                      Movie Title    Box Office       Budget  \\\n",
       "7443  Harry Potter and the Deathly Hallows Part 2  1.342000e+09  250000000.0   \n",
       "6953  Harry Potter and the Deathly Hallows Part 2  1.342000e+09  250000000.0   \n",
       "6973  Harry Potter and the Deathly Hallows Part 2  1.342000e+09  250000000.0   \n",
       "6972  Harry Potter and the Deathly Hallows Part 2  1.342000e+09  250000000.0   \n",
       "6971  Harry Potter and the Deathly Hallows Part 2  1.342000e+09  250000000.0   \n",
       "...                                           ...           ...          ...   \n",
       "2167     Harry Potter and the Prisoner of Azkaban  7.967000e+08  130000000.0   \n",
       "2168     Harry Potter and the Prisoner of Azkaban  7.967000e+08  130000000.0   \n",
       "2169     Harry Potter and the Prisoner of Azkaban  7.967000e+08  130000000.0   \n",
       "2170     Harry Potter and the Prisoner of Azkaban  7.967000e+08  130000000.0   \n",
       "2523     Harry Potter and the Prisoner of Azkaban  7.967000e+08  130000000.0   \n",
       "\n",
       "      Profit_Margin  \n",
       "7443     436.800000  \n",
       "6953     436.800000  \n",
       "6973     436.800000  \n",
       "6972     436.800000  \n",
       "6971     436.800000  \n",
       "...             ...  \n",
       "2167     512.846154  \n",
       "2168     512.846154  \n",
       "2169     512.846154  \n",
       "2170     512.846154  \n",
       "2523     512.846154  \n",
       "\n",
       "[7444 rows x 4 columns]"
      ]
     },
     "execution_count": 217,
     "metadata": {},
     "output_type": "execute_result"
    }
   ],
   "source": [
    "# Ensure 'Budget' and 'Box Office' are numeric types (if they are in string format)\n",
    "Harry_Potter['Budget'] = Harry_Potter['Budget'].replace({r'\\$': '', r',': ''}, regex=True).astype(float)\n",
    "Harry_Potter['Box Office'] = Harry_Potter['Box Office'].replace({r'\\$': '', r',': ''}, regex=True).astype(float)\n",
    "\n",
    "# Calculate Profit Margin\n",
    "Harry_Potter['Profit_Margin'] = (Harry_Potter['Box Office'] - Harry_Potter['Budget']) / Harry_Potter['Budget'] * 100\n",
    "\n",
    "# Sort movies by box office revenue\n",
    "top_movies = Harry_Potter.sort_values('Box Office', ascending=False)\n",
    "\n",
    "# Print the top movies ranked by box office revenue\n",
    "print(\"\\nMovies ranked by box office revenue:\")\n",
    "top_movies[['Movie Title', 'Box Office', 'Budget', 'Profit_Margin']]"
   ]
  },
  {
   "cell_type": "markdown",
   "id": "2c2b6d1e-424d-4552-8aa8-d48a4bacb61e",
   "metadata": {},
   "source": [
    "#### HarryPotter \"Runtime\" Analysis"
   ]
  },
  {
   "cell_type": "code",
   "execution_count": 220,
   "id": "d3630a44-15d1-49c5-8b00-ff8563a82332",
   "metadata": {},
   "outputs": [
    {
     "name": "stdout",
     "output_type": "stream",
     "text": [
      "\n",
      "Average movie runtime: 147.55 minutes\n"
     ]
    }
   ],
   "source": [
    "avg_runtime = Harry_Potter['Runtime'].mean()\n",
    "print(f\"\\nAverage movie runtime: {avg_runtime:.2f} minutes\")"
   ]
  },
  {
   "cell_type": "markdown",
   "id": "5d1bc8a7-c592-4c9e-bea9-be78327a6478",
   "metadata": {},
   "source": [
    "#### Create correlation matrix for movie metrics"
   ]
  },
  {
   "cell_type": "code",
   "execution_count": 223,
   "id": "8f70d20e-6fd8-44e2-ace9-3cd80ac81548",
   "metadata": {},
   "outputs": [
    {
     "name": "stdout",
     "output_type": "stream",
     "text": [
      "\n",
      "Correlation matrix for movie metrics:\n",
      "             Runtime    Budget  Box Office\n",
      "Runtime     1.000000 -0.381056   -0.551482\n",
      "Budget     -0.381056  1.000000    0.586905\n",
      "Box Office -0.551482  0.586905    1.000000\n"
     ]
    }
   ],
   "source": [
    "movie_metrics = Harry_Potter[['Runtime', 'Budget', 'Box Office']]\n",
    "correlation_matrix = movie_metrics.corr()\n",
    "print(\"\\nCorrelation matrix for movie metrics:\")\n",
    "print(correlation_matrix)"
   ]
  },
  {
   "cell_type": "markdown",
   "id": "183a0974-cadf-4163-a0b6-f84e27cad6e0",
   "metadata": {},
   "source": [
    "# Graphs "
   ]
  },
  {
   "cell_type": "markdown",
   "id": "a4ca57d3-a9b0-4fe0-9a54-7b75c10613b2",
   "metadata": {},
   "source": [
    "#### Histogram Graphs"
   ]
  },
  {
   "cell_type": "code",
   "execution_count": 227,
   "id": "8fa82ba1-17be-4e2f-ba6d-6cd3ca2d9ac8",
   "metadata": {},
   "outputs": [
    {
     "data": {
      "image/png": "[encoded data removed]",
      "text/plain": [
       "<Figure size 640x480 with 1 Axes>"
      ]
     },
     "metadata": {},
     "output_type": "display_data"
    }
   ],
   "source": [
    "import seaborn as sns\n",
    "import pandas as pd\n",
    "import matplotlib.pyplot as plt\n",
    "\n",
    "# Example Data\n",
    "box_office_revenues = [1000000000, 900000000, 800000000, 1200000000, 950000000]\n",
    "\n",
    "# Convert to DataFrame for Seaborn\n",
    "data = pd.DataFrame({'Box Office Revenue': box_office_revenues})\n",
    "\n",
    "# Create a histogram using Seaborn\n",
    "sns.histplot(data=data, x='Box Office Revenue', bins=5, color='blue', kde=True)\n",
    "\n",
    "# Set the title and labels using Matplotlib (as there's no direct Seaborn method)\n",
    "sns.set_context(\"notebook\")\n",
    "sns.despine()  # Optional: removes the top and right spines for aesthetics\n",
    "\n",
    "# Show the plot\n",
    "plt.title('Distribution of Box Office Revenues')\n",
    "plt.xlabel('Box Office Revenue (in USD)')\n",
    "plt.ylabel('Frequency')\n",
    "plt.show()"
   ]
  },
  {
   "cell_type": "code",
   "execution_count": 228,
   "id": "05c29ab7-9bce-4bbd-ba7e-34ae90800191",
   "metadata": {},
   "outputs": [
    {
     "data": {
      "image/png": "[encoded data removed]",
      "text/plain": [
       "<Figure size 640x480 with 1 Axes>"
      ]
     },
     "metadata": {},
     "output_type": "display_data"
    }
   ],
   "source": [
    "# Example Data\n",
    "budgets = [120000000, 125000000, 130000000, 140000000, 150000000]\n",
    "\n",
    "plt.hist(budgets, bins=5, color='green', alpha=0.7)\n",
    "plt.title('Distribution of Budgets')\n",
    "plt.xlabel('Budget (in USD)')\n",
    "plt.ylabel('Frequency')\n",
    "plt.show()"
   ]
  },
  {
   "cell_type": "markdown",
   "id": "e2c22ecf-9495-4639-b5b7-7c8c64ab0c4d",
   "metadata": {},
   "source": [
    "#### Bar Graph"
   ]
  },
  {
   "cell_type": "code",
   "execution_count": 238,
   "id": "084cbadc-ce72-40ae-8559-ad6ef17bdb90",
   "metadata": {},
   "outputs": [
    {
     "data": {
      "text/html": [
       "<div>\n",
       "<style scoped>\n",
       "    .dataframe tbody tr th:only-of-type {\n",
       "        vertical-align: middle;\n",
       "    }\n",
       "\n",
       "    .dataframe tbody tr th {\n",
       "        vertical-align: top;\n",
       "    }\n",
       "\n",
       "    .dataframe thead th {\n",
       "        text-align: right;\n",
       "    }\n",
       "</style>\n",
       "<table border=\"1\" class=\"dataframe\">\n",
       "  <thead>\n",
       "    <tr style=\"text-align: right;\">\n",
       "      <th></th>\n",
       "      <th>Budget</th>\n",
       "      <th>Box Office</th>\n",
       "    </tr>\n",
       "  </thead>\n",
       "  <tbody>\n",
       "    <tr>\n",
       "      <th>0</th>\n",
       "      <td>125000000.0</td>\n",
       "      <td>1.002000e+09</td>\n",
       "    </tr>\n",
       "    <tr>\n",
       "      <th>1</th>\n",
       "      <td>125000000.0</td>\n",
       "      <td>1.002000e+09</td>\n",
       "    </tr>\n",
       "    <tr>\n",
       "      <th>2</th>\n",
       "      <td>125000000.0</td>\n",
       "      <td>1.002000e+09</td>\n",
       "    </tr>\n",
       "    <tr>\n",
       "      <th>3</th>\n",
       "      <td>125000000.0</td>\n",
       "      <td>1.002000e+09</td>\n",
       "    </tr>\n",
       "    <tr>\n",
       "      <th>4</th>\n",
       "      <td>125000000.0</td>\n",
       "      <td>1.002000e+09</td>\n",
       "    </tr>\n",
       "  </tbody>\n",
       "</table>\n",
       "</div>"
      ],
      "text/plain": [
       "        Budget    Box Office\n",
       "0  125000000.0  1.002000e+09\n",
       "1  125000000.0  1.002000e+09\n",
       "2  125000000.0  1.002000e+09\n",
       "3  125000000.0  1.002000e+09\n",
       "4  125000000.0  1.002000e+09"
      ]
     },
     "execution_count": 238,
     "metadata": {},
     "output_type": "execute_result"
    }
   ],
   "source": [
    "# Ensure 'Budget' and 'Box Office' are treated as strings before replacing\n",
    "Harry_Potter['Budget'] = Harry_Potter['Budget'].astype(str).str.replace('[$,]', '', regex=True).astype(float)\n",
    "Harry_Potter['Box Office'] = Harry_Potter['Box Office'].astype(str).str.replace('[$,]', '', regex=True).astype(float)\n",
    "\n",
    "# Optional: Check the result\n",
    "Harry_Potter[['Budget', 'Box Office']].head()"
   ]
  },
  {
   "cell_type": "code",
   "execution_count": 240,
   "id": "fd3b5f53-5bbc-4788-a909-49d3b56aa2ca",
   "metadata": {},
   "outputs": [
    {
     "data": {
      "text/html": [
       "<div>\n",
       "<style scoped>\n",
       "    .dataframe tbody tr th:only-of-type {\n",
       "        vertical-align: middle;\n",
       "    }\n",
       "\n",
       "    .dataframe tbody tr th {\n",
       "        vertical-align: top;\n",
       "    }\n",
       "\n",
       "    .dataframe thead th {\n",
       "        text-align: right;\n",
       "    }\n",
       "</style>\n",
       "<table border=\"1\" class=\"dataframe\">\n",
       "  <thead>\n",
       "    <tr style=\"text-align: right;\">\n",
       "      <th></th>\n",
       "      <th>Movie Title</th>\n",
       "      <th>Budget</th>\n",
       "      <th>Box Office</th>\n",
       "    </tr>\n",
       "  </thead>\n",
       "  <tbody>\n",
       "    <tr>\n",
       "      <th>0</th>\n",
       "      <td>Harry Potter and the Chamber of Secrets</td>\n",
       "      <td>100000000.0</td>\n",
       "      <td>8.803000e+08</td>\n",
       "    </tr>\n",
       "    <tr>\n",
       "      <th>1</th>\n",
       "      <td>Harry Potter and the Deathly Hallows Part 1</td>\n",
       "      <td>200000000.0</td>\n",
       "      <td>9.769000e+08</td>\n",
       "    </tr>\n",
       "    <tr>\n",
       "      <th>2</th>\n",
       "      <td>Harry Potter and the Deathly Hallows Part 2</td>\n",
       "      <td>250000000.0</td>\n",
       "      <td>1.342000e+09</td>\n",
       "    </tr>\n",
       "    <tr>\n",
       "      <th>3</th>\n",
       "      <td>Harry Potter and the Goblet of Fire</td>\n",
       "      <td>150000000.0</td>\n",
       "      <td>8.964000e+08</td>\n",
       "    </tr>\n",
       "    <tr>\n",
       "      <th>4</th>\n",
       "      <td>Harry Potter and the Half-Blood Prince</td>\n",
       "      <td>250000000.0</td>\n",
       "      <td>9.432000e+08</td>\n",
       "    </tr>\n",
       "    <tr>\n",
       "      <th>5</th>\n",
       "      <td>Harry Potter and the Order of the Phoenix</td>\n",
       "      <td>150000000.0</td>\n",
       "      <td>9.420000e+08</td>\n",
       "    </tr>\n",
       "    <tr>\n",
       "      <th>6</th>\n",
       "      <td>Harry Potter and the Philosopher's Stone</td>\n",
       "      <td>125000000.0</td>\n",
       "      <td>1.002000e+09</td>\n",
       "    </tr>\n",
       "    <tr>\n",
       "      <th>7</th>\n",
       "      <td>Harry Potter and the Prisoner of Azkaban</td>\n",
       "      <td>130000000.0</td>\n",
       "      <td>7.967000e+08</td>\n",
       "    </tr>\n",
       "  </tbody>\n",
       "</table>\n",
       "</div>"
      ],
      "text/plain": [
       "                                   Movie Title       Budget    Box Office\n",
       "0      Harry Potter and the Chamber of Secrets  100000000.0  8.803000e+08\n",
       "1  Harry Potter and the Deathly Hallows Part 1  200000000.0  9.769000e+08\n",
       "2  Harry Potter and the Deathly Hallows Part 2  250000000.0  1.342000e+09\n",
       "3          Harry Potter and the Goblet of Fire  150000000.0  8.964000e+08\n",
       "4       Harry Potter and the Half-Blood Prince  250000000.0  9.432000e+08\n",
       "5    Harry Potter and the Order of the Phoenix  150000000.0  9.420000e+08\n",
       "6     Harry Potter and the Philosopher's Stone  125000000.0  1.002000e+09\n",
       "7     Harry Potter and the Prisoner of Azkaban  130000000.0  7.967000e+08"
      ]
     },
     "execution_count": 240,
     "metadata": {},
     "output_type": "execute_result"
    }
   ],
   "source": [
    "# Group by 'Movie Title' and calculate the average 'Budget' and 'Box Office' for each movie\n",
    "movie_data = Harry_Potter.groupby('Movie Title', as_index=False).agg({\n",
    "    'Budget': 'mean',\n",
    "    'Box Office': 'mean'\n",
    "})\n",
    "movie_data "
   ]
  },
  {
   "cell_type": "code",
   "execution_count": 242,
   "id": "167c3bc8-3ab9-4595-a739-d321208f87dc",
   "metadata": {},
   "outputs": [
    {
     "data": {
      "text/html": [
       "<div>\n",
       "<style scoped>\n",
       "    .dataframe tbody tr th:only-of-type {\n",
       "        vertical-align: middle;\n",
       "    }\n",
       "\n",
       "    .dataframe tbody tr th {\n",
       "        vertical-align: top;\n",
       "    }\n",
       "\n",
       "    .dataframe thead th {\n",
       "        text-align: right;\n",
       "    }\n",
       "</style>\n",
       "<table border=\"1\" class=\"dataframe\">\n",
       "  <thead>\n",
       "    <tr style=\"text-align: right;\">\n",
       "      <th></th>\n",
       "      <th>Movie Title</th>\n",
       "      <th>Category</th>\n",
       "      <th>Amount</th>\n",
       "    </tr>\n",
       "  </thead>\n",
       "  <tbody>\n",
       "    <tr>\n",
       "      <th>0</th>\n",
       "      <td>Harry Potter and the Chamber of Secrets</td>\n",
       "      <td>Budget</td>\n",
       "      <td>1.000000e+08</td>\n",
       "    </tr>\n",
       "    <tr>\n",
       "      <th>1</th>\n",
       "      <td>Harry Potter and the Deathly Hallows Part 1</td>\n",
       "      <td>Budget</td>\n",
       "      <td>2.000000e+08</td>\n",
       "    </tr>\n",
       "    <tr>\n",
       "      <th>2</th>\n",
       "      <td>Harry Potter and the Deathly Hallows Part 2</td>\n",
       "      <td>Budget</td>\n",
       "      <td>2.500000e+08</td>\n",
       "    </tr>\n",
       "    <tr>\n",
       "      <th>3</th>\n",
       "      <td>Harry Potter and the Goblet of Fire</td>\n",
       "      <td>Budget</td>\n",
       "      <td>1.500000e+08</td>\n",
       "    </tr>\n",
       "    <tr>\n",
       "      <th>4</th>\n",
       "      <td>Harry Potter and the Half-Blood Prince</td>\n",
       "      <td>Budget</td>\n",
       "      <td>2.500000e+08</td>\n",
       "    </tr>\n",
       "    <tr>\n",
       "      <th>5</th>\n",
       "      <td>Harry Potter and the Order of the Phoenix</td>\n",
       "      <td>Budget</td>\n",
       "      <td>1.500000e+08</td>\n",
       "    </tr>\n",
       "    <tr>\n",
       "      <th>6</th>\n",
       "      <td>Harry Potter and the Philosopher's Stone</td>\n",
       "      <td>Budget</td>\n",
       "      <td>1.250000e+08</td>\n",
       "    </tr>\n",
       "    <tr>\n",
       "      <th>7</th>\n",
       "      <td>Harry Potter and the Prisoner of Azkaban</td>\n",
       "      <td>Budget</td>\n",
       "      <td>1.300000e+08</td>\n",
       "    </tr>\n",
       "    <tr>\n",
       "      <th>8</th>\n",
       "      <td>Harry Potter and the Chamber of Secrets</td>\n",
       "      <td>Box Office</td>\n",
       "      <td>8.803000e+08</td>\n",
       "    </tr>\n",
       "    <tr>\n",
       "      <th>9</th>\n",
       "      <td>Harry Potter and the Deathly Hallows Part 1</td>\n",
       "      <td>Box Office</td>\n",
       "      <td>9.769000e+08</td>\n",
       "    </tr>\n",
       "    <tr>\n",
       "      <th>10</th>\n",
       "      <td>Harry Potter and the Deathly Hallows Part 2</td>\n",
       "      <td>Box Office</td>\n",
       "      <td>1.342000e+09</td>\n",
       "    </tr>\n",
       "    <tr>\n",
       "      <th>11</th>\n",
       "      <td>Harry Potter and the Goblet of Fire</td>\n",
       "      <td>Box Office</td>\n",
       "      <td>8.964000e+08</td>\n",
       "    </tr>\n",
       "    <tr>\n",
       "      <th>12</th>\n",
       "      <td>Harry Potter and the Half-Blood Prince</td>\n",
       "      <td>Box Office</td>\n",
       "      <td>9.432000e+08</td>\n",
       "    </tr>\n",
       "    <tr>\n",
       "      <th>13</th>\n",
       "      <td>Harry Potter and the Order of the Phoenix</td>\n",
       "      <td>Box Office</td>\n",
       "      <td>9.420000e+08</td>\n",
       "    </tr>\n",
       "    <tr>\n",
       "      <th>14</th>\n",
       "      <td>Harry Potter and the Philosopher's Stone</td>\n",
       "      <td>Box Office</td>\n",
       "      <td>1.002000e+09</td>\n",
       "    </tr>\n",
       "    <tr>\n",
       "      <th>15</th>\n",
       "      <td>Harry Potter and the Prisoner of Azkaban</td>\n",
       "      <td>Box Office</td>\n",
       "      <td>7.967000e+08</td>\n",
       "    </tr>\n",
       "  </tbody>\n",
       "</table>\n",
       "</div>"
      ],
      "text/plain": [
       "                                    Movie Title    Category        Amount\n",
       "0       Harry Potter and the Chamber of Secrets      Budget  1.000000e+08\n",
       "1   Harry Potter and the Deathly Hallows Part 1      Budget  2.000000e+08\n",
       "2   Harry Potter and the Deathly Hallows Part 2      Budget  2.500000e+08\n",
       "3           Harry Potter and the Goblet of Fire      Budget  1.500000e+08\n",
       "4        Harry Potter and the Half-Blood Prince      Budget  2.500000e+08\n",
       "5     Harry Potter and the Order of the Phoenix      Budget  1.500000e+08\n",
       "6      Harry Potter and the Philosopher's Stone      Budget  1.250000e+08\n",
       "7      Harry Potter and the Prisoner of Azkaban      Budget  1.300000e+08\n",
       "8       Harry Potter and the Chamber of Secrets  Box Office  8.803000e+08\n",
       "9   Harry Potter and the Deathly Hallows Part 1  Box Office  9.769000e+08\n",
       "10  Harry Potter and the Deathly Hallows Part 2  Box Office  1.342000e+09\n",
       "11          Harry Potter and the Goblet of Fire  Box Office  8.964000e+08\n",
       "12       Harry Potter and the Half-Blood Prince  Box Office  9.432000e+08\n",
       "13    Harry Potter and the Order of the Phoenix  Box Office  9.420000e+08\n",
       "14     Harry Potter and the Philosopher's Stone  Box Office  1.002000e+09\n",
       "15     Harry Potter and the Prisoner of Azkaban  Box Office  7.967000e+08"
      ]
     },
     "execution_count": 242,
     "metadata": {},
     "output_type": "execute_result"
    }
   ],
   "source": [
    "# Reshape the data into a long format for compatibility with Seaborn\n",
    "melted_data = movie_data.melt(\n",
    "    id_vars=['Movie Title'], \n",
    "    value_vars=['Budget', 'Box Office'],\n",
    "    var_name='Category', \n",
    "    value_name='Amount'\n",
    ")\n",
    "melted_data "
   ]
  },
  {
   "cell_type": "code",
   "execution_count": 244,
   "id": "029efff6-8a9c-4682-8713-33ad509c5d5a",
   "metadata": {},
   "outputs": [],
   "source": [
    "# Set the Seaborn theme for the plot\n",
    "import seaborn as sns \n",
    "sns.set_theme(style=\"whitegrid\")"
   ]
  },
  {
   "cell_type": "code",
   "execution_count": 246,
   "id": "277d493e-815a-4c55-8451-1c383dcd78be",
   "metadata": {},
   "outputs": [
    {
     "data": {
      "text/plain": [
       "<seaborn.axisgrid.FacetGrid at 0x18f542255e0>"
      ]
     },
     "execution_count": 246,
     "metadata": {},
     "output_type": "execute_result"
    },
    {
     "data": {
      "image/png": "[encoded data removed]",
      "text/plain": [
       "<Figure size 1325.5x600 with 1 Axes>"
      ]
     },
     "metadata": {},
     "output_type": "display_data"
    }
   ],
   "source": [
    "# Plot a bar chart comparing Budget and Box Office revenue for each movie\n",
    "plot = sns.catplot(\n",
    "    data=melted_data,\n",
    "    x='Movie Title',\n",
    "    y='Amount',\n",
    "    hue='Category',\n",
    "    kind='bar',\n",
    "    palette='viridis',\n",
    "    height=6,\n",
    "    aspect=2\n",
    ")\n",
    "\n",
    "# Set plot labels, title, and adjust x-axis labels\n",
    "plot.set(\n",
    "    xlabel='Movie Title',\n",
    "    ylabel='Amount (in $)',\n",
    "    title='Budget vs Box Office Revenue for Harry Potter Movies'\n",
    ").set_xticklabels(rotation=45, horizontalalignment='right')"
   ]
  },
  {
   "cell_type": "markdown",
   "id": "3e71d8d9-064d-4195-8b1e-fe0997a81ed0",
   "metadata": {},
   "source": [
    "#### Line Graph"
   ]
  },
  {
   "cell_type": "code",
   "execution_count": 249,
   "id": "1c7f3147-c768-479a-ad99-57c09905a1b9",
   "metadata": {},
   "outputs": [],
   "source": [
    "# Ensure 'Budget' and 'Box Office' columns are strings to prevent attribute errors during string operations\n",
    "Harry_Potter['Budget'] = Harry_Potter['Budget'].astype(str)\n",
    "Harry_Potter['Box Office'] = Harry_Potter['Box Office'].astype(str)"
   ]
  },
  {
   "cell_type": "code",
   "execution_count": 251,
   "id": "830b2030-a252-4ce9-a39a-f6cbec8368ab",
   "metadata": {},
   "outputs": [],
   "source": [
    "# Remove \"$\" and commas, then convert columns to numeric values, handling errors gracefully\n",
    "Harry_Potter['Budget'] = pd.to_numeric(\n",
    "    Harry_Potter['Budget'].str.replace('[$,]', '', regex=True), \n",
    "    errors='coerce'\n",
    ")\n",
    "Harry_Potter['Box Office'] = pd.to_numeric(\n",
    "    Harry_Potter['Box Office'].str.replace('[$,]', '', regex=True), \n",
    "    errors='coerce'\n",
    ")"
   ]
  },
  {
   "cell_type": "code",
   "execution_count": 253,
   "id": "058aabc4-10dd-47ef-afd1-3ed266da111d",
   "metadata": {},
   "outputs": [],
   "source": [
    "# Drop rows where 'Budget' or 'Box Office' values are NaN\n",
    "Harry_Potter.dropna(subset=['Budget', 'Box Office'], inplace=True)"
   ]
  },
  {
   "cell_type": "code",
   "execution_count": 255,
   "id": "7c26674b-ea81-4366-911a-96e8156cfe5a",
   "metadata": {},
   "outputs": [
    {
     "data": {
      "text/html": [
       "<div>\n",
       "<style scoped>\n",
       "    .dataframe tbody tr th:only-of-type {\n",
       "        vertical-align: middle;\n",
       "    }\n",
       "\n",
       "    .dataframe tbody tr th {\n",
       "        vertical-align: top;\n",
       "    }\n",
       "\n",
       "    .dataframe thead th {\n",
       "        text-align: right;\n",
       "    }\n",
       "</style>\n",
       "<table border=\"1\" class=\"dataframe\">\n",
       "  <thead>\n",
       "    <tr style=\"text-align: right;\">\n",
       "      <th></th>\n",
       "      <th>Movie Title</th>\n",
       "      <th>Runtime</th>\n",
       "      <th>Release Year</th>\n",
       "    </tr>\n",
       "  </thead>\n",
       "  <tbody>\n",
       "    <tr>\n",
       "      <th>0</th>\n",
       "      <td>Harry Potter and the Chamber of Secrets</td>\n",
       "      <td>161.0</td>\n",
       "      <td>NaT</td>\n",
       "    </tr>\n",
       "    <tr>\n",
       "      <th>1</th>\n",
       "      <td>Harry Potter and the Deathly Hallows Part 1</td>\n",
       "      <td>146.0</td>\n",
       "      <td>NaT</td>\n",
       "    </tr>\n",
       "    <tr>\n",
       "      <th>2</th>\n",
       "      <td>Harry Potter and the Deathly Hallows Part 2</td>\n",
       "      <td>130.0</td>\n",
       "      <td>NaT</td>\n",
       "    </tr>\n",
       "    <tr>\n",
       "      <th>3</th>\n",
       "      <td>Harry Potter and the Goblet of Fire</td>\n",
       "      <td>157.0</td>\n",
       "      <td>NaT</td>\n",
       "    </tr>\n",
       "    <tr>\n",
       "      <th>4</th>\n",
       "      <td>Harry Potter and the Half-Blood Prince</td>\n",
       "      <td>153.0</td>\n",
       "      <td>NaT</td>\n",
       "    </tr>\n",
       "    <tr>\n",
       "      <th>5</th>\n",
       "      <td>Harry Potter and the Order of the Phoenix</td>\n",
       "      <td>138.0</td>\n",
       "      <td>NaT</td>\n",
       "    </tr>\n",
       "    <tr>\n",
       "      <th>6</th>\n",
       "      <td>Harry Potter and the Philosopher's Stone</td>\n",
       "      <td>152.0</td>\n",
       "      <td>NaT</td>\n",
       "    </tr>\n",
       "    <tr>\n",
       "      <th>7</th>\n",
       "      <td>Harry Potter and the Prisoner of Azkaban</td>\n",
       "      <td>142.0</td>\n",
       "      <td>NaT</td>\n",
       "    </tr>\n",
       "  </tbody>\n",
       "</table>\n",
       "</div>"
      ],
      "text/plain": [
       "                                   Movie Title  Runtime Release Year\n",
       "0      Harry Potter and the Chamber of Secrets    161.0          NaT\n",
       "1  Harry Potter and the Deathly Hallows Part 1    146.0          NaT\n",
       "2  Harry Potter and the Deathly Hallows Part 2    130.0          NaT\n",
       "3          Harry Potter and the Goblet of Fire    157.0          NaT\n",
       "4       Harry Potter and the Half-Blood Prince    153.0          NaT\n",
       "5    Harry Potter and the Order of the Phoenix    138.0          NaT\n",
       "6     Harry Potter and the Philosopher's Stone    152.0          NaT\n",
       "7     Harry Potter and the Prisoner of Azkaban    142.0          NaT"
      ]
     },
     "execution_count": 255,
     "metadata": {},
     "output_type": "execute_result"
    }
   ],
   "source": [
    "# Group by 'Movie Title' to calculate the average runtime\n",
    "movie_runtime = Harry_Potter.groupby('Movie Title', as_index=False)['Runtime'].mean()\n",
    "\n",
    "# Merge with release year information and sort by release year\n",
    "movie_runtime = movie_runtime.merge(\n",
    "    Harry_Potter[['Movie Title', 'Release Year']].drop_duplicates(), \n",
    "    on='Movie Title'\n",
    ").sort_values('Release Year')\n",
    "movie_runtime"
   ]
  },
  {
   "cell_type": "code",
   "execution_count": 257,
   "id": "899cd36d-791a-4e08-8bd3-d5a821a75e76",
   "metadata": {},
   "outputs": [],
   "source": [
    "# Apply a clean white grid style for the plot\n",
    "sns.set_theme(style=\"whitegrid\")"
   ]
  },
  {
   "cell_type": "code",
   "execution_count": 259,
   "id": "bb5e21ca-4731-4442-a221-abf3aa5ba702",
   "metadata": {},
   "outputs": [
    {
     "data": {
      "image/png": "[encoded data removed]",
      "text/plain": [
       "<Figure size 640x480 with 1 Axes>"
      ]
     },
     "metadata": {},
     "output_type": "display_data"
    }
   ],
   "source": [
    "import matplotlib.pyplot as plt  # Necessary for showing the plot\n",
    "\n",
    "# Example DataFrame\n",
    "movie_runtime = pd.DataFrame({\n",
    "    'Release Year': [2001, 2002, 2004, 2005, 2007, 2009, 2011],\n",
    "    'Runtime': [152, 161, 142, 138, 146, 130, 130]\n",
    "})\n",
    "\n",
    "# Create a line plot for runtime trend\n",
    "sns.lineplot(\n",
    "    data=movie_runtime, \n",
    "    x='Release Year', \n",
    "    y='Runtime', \n",
    "    marker='o', \n",
    "    linewidth=2, \n",
    "    color='blue'\n",
    ").set(\n",
    "    xlabel='Release Year', \n",
    "    ylabel='Runtime (in minutes)', \n",
    "    title='Runtime Trend Across Harry Potter Movies'\n",
    ")\n",
    "\n",
    "# Set x-ticks to show each release year\n",
    "plt.xticks(movie_runtime['Release Year'], rotation=45)\n",
    "\n",
    "# Remove the top and right spines for a cleaner look\n",
    "sns.despine()\n",
    "\n",
    "# Show the plot\n",
    "plt.show()"
   ]
  },
  {
   "cell_type": "markdown",
   "id": "a6310c86-85a9-4d40-85ee-6b9699191860",
   "metadata": {},
   "source": [
    "#### Heatmap Graph"
   ]
  },
  {
   "cell_type": "code",
   "execution_count": 262,
   "id": "c53bcc20-3442-43e6-91d0-d3f9a3f97dd5",
   "metadata": {},
   "outputs": [],
   "source": [
    "# Convert 'Budget' and 'Box Office' columns to strings to prepare for string operations\n",
    "Harry_Potter['Budget'] = Harry_Potter['Budget'].astype(str)\n",
    "Harry_Potter['Box Office'] = Harry_Potter['Box Office'].astype(str)"
   ]
  },
  {
   "cell_type": "code",
   "execution_count": 264,
   "id": "4f105535-a3d7-4abd-afec-e92b303614cb",
   "metadata": {},
   "outputs": [],
   "source": [
    "# Remove \"$\" and \",\" symbols from 'Budget' and 'Box Office' and convert to numeric types\n",
    "Harry_Potter['Budget'] = pd.to_numeric(\n",
    "    Harry_Potter['Budget'].str.replace('[$,]', '', regex=True), \n",
    "    errors='coerce'\n",
    ")\n",
    "Harry_Potter['Box Office'] = pd.to_numeric(\n",
    "    Harry_Potter['Box Office'].str.replace('[$,]', '', regex=True), \n",
    "    errors='coerce'\n",
    ")"
   ]
  },
  {
   "cell_type": "code",
   "execution_count": 266,
   "id": "832fc6bd-d71a-4a25-8e20-fc1e7885cc0c",
   "metadata": {},
   "outputs": [
    {
     "data": {
      "text/html": [
       "<div>\n",
       "<style scoped>\n",
       "    .dataframe tbody tr th:only-of-type {\n",
       "        vertical-align: middle;\n",
       "    }\n",
       "\n",
       "    .dataframe tbody tr th {\n",
       "        vertical-align: top;\n",
       "    }\n",
       "\n",
       "    .dataframe thead th {\n",
       "        text-align: right;\n",
       "    }\n",
       "</style>\n",
       "<table border=\"1\" class=\"dataframe\">\n",
       "  <thead>\n",
       "    <tr style=\"text-align: right;\">\n",
       "      <th></th>\n",
       "      <th>Movie ID</th>\n",
       "      <th>Movie Title</th>\n",
       "      <th>Release Year</th>\n",
       "      <th>Runtime</th>\n",
       "      <th>Budget</th>\n",
       "      <th>Box Office</th>\n",
       "      <th>Chapter ID</th>\n",
       "      <th>Chapter Name</th>\n",
       "      <th>Movie Chapter</th>\n",
       "      <th>Dialogue ID</th>\n",
       "      <th>...</th>\n",
       "      <th>Patronus</th>\n",
       "      <th>Wand (Wood)</th>\n",
       "      <th>Wand (Core)</th>\n",
       "      <th>Place Name</th>\n",
       "      <th>Place Category</th>\n",
       "      <th>Budget_Numeric</th>\n",
       "      <th>BoxOffice_Numeric</th>\n",
       "      <th>BoxOffice_to_Budget</th>\n",
       "      <th>Release Year Extracted</th>\n",
       "      <th>Profit_Margin</th>\n",
       "    </tr>\n",
       "  </thead>\n",
       "  <tbody>\n",
       "    <tr>\n",
       "      <th>0</th>\n",
       "      <td>1</td>\n",
       "      <td>Harry Potter and the Philosopher's Stone</td>\n",
       "      <td>NaT</td>\n",
       "      <td>152</td>\n",
       "      <td>125000000.0</td>\n",
       "      <td>1.002000e+09</td>\n",
       "      <td>1</td>\n",
       "      <td>Doorstep Delivery</td>\n",
       "      <td>1</td>\n",
       "      <td>1</td>\n",
       "      <td>...</td>\n",
       "      <td>Phoenix</td>\n",
       "      <td>Elder</td>\n",
       "      <td>Thestral Tail Hair</td>\n",
       "      <td>4 Privet Drive</td>\n",
       "      <td>Dwellings</td>\n",
       "      <td>125000000.0</td>\n",
       "      <td>1.002000e+09</td>\n",
       "      <td>8.016</td>\n",
       "      <td>NaN</td>\n",
       "      <td>701.6</td>\n",
       "    </tr>\n",
       "    <tr>\n",
       "      <th>1</th>\n",
       "      <td>1</td>\n",
       "      <td>Harry Potter and the Philosopher's Stone</td>\n",
       "      <td>NaT</td>\n",
       "      <td>152</td>\n",
       "      <td>125000000.0</td>\n",
       "      <td>1.002000e+09</td>\n",
       "      <td>1</td>\n",
       "      <td>Doorstep Delivery</td>\n",
       "      <td>1</td>\n",
       "      <td>2</td>\n",
       "      <td>...</td>\n",
       "      <td>Cat</td>\n",
       "      <td>Fir</td>\n",
       "      <td>Dragon Heartstring</td>\n",
       "      <td>4 Privet Drive</td>\n",
       "      <td>Dwellings</td>\n",
       "      <td>125000000.0</td>\n",
       "      <td>1.002000e+09</td>\n",
       "      <td>8.016</td>\n",
       "      <td>NaN</td>\n",
       "      <td>701.6</td>\n",
       "    </tr>\n",
       "    <tr>\n",
       "      <th>2</th>\n",
       "      <td>1</td>\n",
       "      <td>Harry Potter and the Philosopher's Stone</td>\n",
       "      <td>NaT</td>\n",
       "      <td>152</td>\n",
       "      <td>125000000.0</td>\n",
       "      <td>1.002000e+09</td>\n",
       "      <td>1</td>\n",
       "      <td>Doorstep Delivery</td>\n",
       "      <td>1</td>\n",
       "      <td>3</td>\n",
       "      <td>...</td>\n",
       "      <td>Phoenix</td>\n",
       "      <td>Elder</td>\n",
       "      <td>Thestral Tail Hair</td>\n",
       "      <td>4 Privet Drive</td>\n",
       "      <td>Dwellings</td>\n",
       "      <td>125000000.0</td>\n",
       "      <td>1.002000e+09</td>\n",
       "      <td>8.016</td>\n",
       "      <td>NaN</td>\n",
       "      <td>701.6</td>\n",
       "    </tr>\n",
       "    <tr>\n",
       "      <th>3</th>\n",
       "      <td>1</td>\n",
       "      <td>Harry Potter and the Philosopher's Stone</td>\n",
       "      <td>NaT</td>\n",
       "      <td>152</td>\n",
       "      <td>125000000.0</td>\n",
       "      <td>1.002000e+09</td>\n",
       "      <td>1</td>\n",
       "      <td>Doorstep Delivery</td>\n",
       "      <td>1</td>\n",
       "      <td>4</td>\n",
       "      <td>...</td>\n",
       "      <td>Cat</td>\n",
       "      <td>Fir</td>\n",
       "      <td>Dragon Heartstring</td>\n",
       "      <td>4 Privet Drive</td>\n",
       "      <td>Dwellings</td>\n",
       "      <td>125000000.0</td>\n",
       "      <td>1.002000e+09</td>\n",
       "      <td>8.016</td>\n",
       "      <td>NaN</td>\n",
       "      <td>701.6</td>\n",
       "    </tr>\n",
       "    <tr>\n",
       "      <th>4</th>\n",
       "      <td>1</td>\n",
       "      <td>Harry Potter and the Philosopher's Stone</td>\n",
       "      <td>NaT</td>\n",
       "      <td>152</td>\n",
       "      <td>125000000.0</td>\n",
       "      <td>1.002000e+09</td>\n",
       "      <td>1</td>\n",
       "      <td>Doorstep Delivery</td>\n",
       "      <td>1</td>\n",
       "      <td>5</td>\n",
       "      <td>...</td>\n",
       "      <td>Phoenix</td>\n",
       "      <td>Elder</td>\n",
       "      <td>Thestral Tail Hair</td>\n",
       "      <td>4 Privet Drive</td>\n",
       "      <td>Dwellings</td>\n",
       "      <td>125000000.0</td>\n",
       "      <td>1.002000e+09</td>\n",
       "      <td>8.016</td>\n",
       "      <td>NaN</td>\n",
       "      <td>701.6</td>\n",
       "    </tr>\n",
       "  </tbody>\n",
       "</table>\n",
       "<p>5 rows × 27 columns</p>\n",
       "</div>"
      ],
      "text/plain": [
       "   Movie ID                               Movie Title Release Year  Runtime  \\\n",
       "0         1  Harry Potter and the Philosopher's Stone          NaT      152   \n",
       "1         1  Harry Potter and the Philosopher's Stone          NaT      152   \n",
       "2         1  Harry Potter and the Philosopher's Stone          NaT      152   \n",
       "3         1  Harry Potter and the Philosopher's Stone          NaT      152   \n",
       "4         1  Harry Potter and the Philosopher's Stone          NaT      152   \n",
       "\n",
       "        Budget    Box Office  Chapter ID       Chapter Name  Movie Chapter  \\\n",
       "0  125000000.0  1.002000e+09           1  Doorstep Delivery              1   \n",
       "1  125000000.0  1.002000e+09           1  Doorstep Delivery              1   \n",
       "2  125000000.0  1.002000e+09           1  Doorstep Delivery              1   \n",
       "3  125000000.0  1.002000e+09           1  Doorstep Delivery              1   \n",
       "4  125000000.0  1.002000e+09           1  Doorstep Delivery              1   \n",
       "\n",
       "   Dialogue ID  ...  Patronus  Wand (Wood)         Wand (Core)  \\\n",
       "0            1  ...   Phoenix        Elder  Thestral Tail Hair   \n",
       "1            2  ...       Cat          Fir  Dragon Heartstring   \n",
       "2            3  ...   Phoenix        Elder  Thestral Tail Hair   \n",
       "3            4  ...       Cat          Fir  Dragon Heartstring   \n",
       "4            5  ...   Phoenix        Elder  Thestral Tail Hair   \n",
       "\n",
       "       Place Name Place Category Budget_Numeric BoxOffice_Numeric  \\\n",
       "0  4 Privet Drive      Dwellings    125000000.0      1.002000e+09   \n",
       "1  4 Privet Drive      Dwellings    125000000.0      1.002000e+09   \n",
       "2  4 Privet Drive      Dwellings    125000000.0      1.002000e+09   \n",
       "3  4 Privet Drive      Dwellings    125000000.0      1.002000e+09   \n",
       "4  4 Privet Drive      Dwellings    125000000.0      1.002000e+09   \n",
       "\n",
       "  BoxOffice_to_Budget Release Year Extracted Profit_Margin  \n",
       "0               8.016                    NaN         701.6  \n",
       "1               8.016                    NaN         701.6  \n",
       "2               8.016                    NaN         701.6  \n",
       "3               8.016                    NaN         701.6  \n",
       "4               8.016                    NaN         701.6  \n",
       "\n",
       "[5 rows x 27 columns]"
      ]
     },
     "execution_count": 266,
     "metadata": {},
     "output_type": "execute_result"
    }
   ],
   "source": [
    "Harry = Harry_Potter.dropna(subset=['Budget', 'Box Office'])\n",
    "Harry.head()"
   ]
  },
  {
   "cell_type": "code",
   "execution_count": 268,
   "id": "8c974833-ac8a-41d2-bb06-89e51aea36c5",
   "metadata": {},
   "outputs": [
    {
     "data": {
      "text/html": [
       "<div>\n",
       "<style scoped>\n",
       "    .dataframe tbody tr th:only-of-type {\n",
       "        vertical-align: middle;\n",
       "    }\n",
       "\n",
       "    .dataframe tbody tr th {\n",
       "        vertical-align: top;\n",
       "    }\n",
       "\n",
       "    .dataframe thead th {\n",
       "        text-align: right;\n",
       "    }\n",
       "</style>\n",
       "<table border=\"1\" class=\"dataframe\">\n",
       "  <thead>\n",
       "    <tr style=\"text-align: right;\">\n",
       "      <th></th>\n",
       "      <th>Runtime</th>\n",
       "      <th>Budget</th>\n",
       "      <th>Box Office</th>\n",
       "    </tr>\n",
       "  </thead>\n",
       "  <tbody>\n",
       "    <tr>\n",
       "      <th>Runtime</th>\n",
       "      <td>1.000000</td>\n",
       "      <td>-0.381056</td>\n",
       "      <td>-0.551482</td>\n",
       "    </tr>\n",
       "    <tr>\n",
       "      <th>Budget</th>\n",
       "      <td>-0.381056</td>\n",
       "      <td>1.000000</td>\n",
       "      <td>0.586905</td>\n",
       "    </tr>\n",
       "    <tr>\n",
       "      <th>Box Office</th>\n",
       "      <td>-0.551482</td>\n",
       "      <td>0.586905</td>\n",
       "      <td>1.000000</td>\n",
       "    </tr>\n",
       "  </tbody>\n",
       "</table>\n",
       "</div>"
      ],
      "text/plain": [
       "             Runtime    Budget  Box Office\n",
       "Runtime     1.000000 -0.381056   -0.551482\n",
       "Budget     -0.381056  1.000000    0.586905\n",
       "Box Office -0.551482  0.586905    1.000000"
      ]
     },
     "execution_count": 268,
     "metadata": {},
     "output_type": "execute_result"
    }
   ],
   "source": [
    "# Select numerical columns and compute the correlation matrix\n",
    "correlation_matrix = Harry_Potter[['Runtime', 'Budget', 'Box Office']].corr()\n",
    "correlation_matrix"
   ]
  },
  {
   "cell_type": "code",
   "execution_count": 270,
   "id": "d587674e-4e42-464b-bbdf-546ca7e90e1a",
   "metadata": {},
   "outputs": [],
   "source": [
    "# Set a clean white theme for the heatmap\n",
    "sns.set_theme(style=\"white\")"
   ]
  },
  {
   "cell_type": "code",
   "execution_count": 272,
   "id": "56202320-875d-49ec-b02d-ea2e4f67baf1",
   "metadata": {},
   "outputs": [],
   "source": [
    "# Set a clean white theme for the heatmap\n",
    "sns.set_theme(style=\"white\")"
   ]
  },
  {
   "cell_type": "code",
   "execution_count": 274,
   "id": "a2f09ade-78b3-4fa7-a2b4-974158b2a0dc",
   "metadata": {},
   "outputs": [
    {
     "data": {
      "text/plain": [
       "Text(0.5, 1.0, 'Correlation Heatmap of Runtime, Budget, and Box Office Revenue')"
      ]
     },
     "execution_count": 274,
     "metadata": {},
     "output_type": "execute_result"
    },
    {
     "data": {
      "image/png": "[encoded data removed]",
      "text/plain": [
       "<Figure size 640x480 with 2 Axes>"
      ]
     },
     "metadata": {},
     "output_type": "display_data"
    }
   ],
   "source": [
    "# Define Harry Potter-inspired colors as a list of hex codes\n",
    "hp_colors = [\"#2E4A34\",  # Slytherin Green\n",
    "             \"#7A0000\",  # Gryffindor Red\n",
    "             \"#FFD700\",  # Hufflepuff Gold\n",
    "             \"#1F4E79\",  # Ravenclaw Blue\n",
    "             \"#1C1C1C\"]  # Hogwarts Black/Gray\n",
    "\n",
    "# Create a heatmap using the custom color palette\n",
    "ax = sns.heatmap(\n",
    "    correlation_matrix,\n",
    "    annot=True,\n",
    "    cmap=sns.color_palette(hp_colors, as_cmap=True),  # Use the custom palette directly\n",
    "    vmin=-1,\n",
    "    vmax=1\n",
    ")\n",
    "\n",
    "# Add a title using the Seaborn Axes object\n",
    "ax.set_title(\"Correlation Heatmap of Runtime, Budget, and Box Office Revenue\")"
   ]
  },
  {
   "cell_type": "markdown",
   "id": "e826b742-f54e-4362-afcb-f55bd6a65743",
   "metadata": {},
   "source": [
    "# Joining Data"
   ]
  },
  {
   "cell_type": "code",
   "execution_count": 277,
   "id": "ee1b7f5a-d31c-4687-8713-faf6bda5b0a6",
   "metadata": {},
   "outputs": [
    {
     "data": {
      "text/html": [
       "<div>\n",
       "<style scoped>\n",
       "    .dataframe tbody tr th:only-of-type {\n",
       "        vertical-align: middle;\n",
       "    }\n",
       "\n",
       "    .dataframe tbody tr th {\n",
       "        vertical-align: top;\n",
       "    }\n",
       "\n",
       "    .dataframe thead th {\n",
       "        text-align: right;\n",
       "    }\n",
       "</style>\n",
       "<table border=\"1\" class=\"dataframe\">\n",
       "  <thead>\n",
       "    <tr style=\"text-align: right;\">\n",
       "      <th></th>\n",
       "      <th>Movie Title</th>\n",
       "      <th>Director</th>\n",
       "      <th>Ranking</th>\n",
       "    </tr>\n",
       "  </thead>\n",
       "  <tbody>\n",
       "    <tr>\n",
       "      <th>0</th>\n",
       "      <td>Harry Potter and the Philosopher's Stone</td>\n",
       "      <td>Chris Columbus</td>\n",
       "      <td>8.1</td>\n",
       "    </tr>\n",
       "    <tr>\n",
       "      <th>1</th>\n",
       "      <td>Harry Potter and the Chamber of Secrets</td>\n",
       "      <td>Chris Columbus</td>\n",
       "      <td>7.4</td>\n",
       "    </tr>\n",
       "    <tr>\n",
       "      <th>2</th>\n",
       "      <td>Harry Potter and the Prisoner of Azkaban</td>\n",
       "      <td>Alfonso Cuarón</td>\n",
       "      <td>7.9</td>\n",
       "    </tr>\n",
       "  </tbody>\n",
       "</table>\n",
       "</div>"
      ],
      "text/plain": [
       "                                Movie Title        Director  Ranking\n",
       "0  Harry Potter and the Philosopher's Stone  Chris Columbus      8.1\n",
       "1   Harry Potter and the Chamber of Secrets  Chris Columbus      7.4\n",
       "2  Harry Potter and the Prisoner of Azkaban  Alfonso Cuarón      7.9"
      ]
     },
     "execution_count": 277,
     "metadata": {},
     "output_type": "execute_result"
    }
   ],
   "source": [
    "extra_details = pd.DataFrame({\n",
    "    'Movie Title': [\n",
    "        \"Harry Potter and the Philosopher's Stone\", \n",
    "        \"Harry Potter and the Chamber of Secrets\",\n",
    "        \"Harry Potter and the Prisoner of Azkaban\"\n",
    "    ],\n",
    "    'Director': ['Chris Columbus', 'Chris Columbus', 'Alfonso Cuarón'],\n",
    "    'Ranking': [8.1, 7.4, 7.9]\n",
    "})\n",
    "extra_details"
   ]
  },
  {
   "cell_type": "code",
   "execution_count": 279,
   "id": "5120ecdb-20d2-4d55-8ccf-b498ffa11a60",
   "metadata": {},
   "outputs": [
    {
     "data": {
      "text/plain": [
       "Movie ID                     0\n",
       "Movie Title                  0\n",
       "Release Year              7444\n",
       "Runtime                      0\n",
       "Budget                       0\n",
       "Box Office                   0\n",
       "Chapter ID                   0\n",
       "Chapter Name                 0\n",
       "Movie Chapter                0\n",
       "Dialogue ID                  0\n",
       "Place ID                     0\n",
       "Character ID                 0\n",
       "Dialogue                     0\n",
       "Character Name               0\n",
       "Species                    164\n",
       "Gender                     164\n",
       "House                      917\n",
       "Patronus                  2493\n",
       "Wand (Wood)               2844\n",
       "Wand (Core)               3105\n",
       "Place Name                   0\n",
       "Place Category               0\n",
       "Budget_Numeric               0\n",
       "BoxOffice_Numeric            0\n",
       "BoxOffice_to_Budget          0\n",
       "Release Year Extracted    7444\n",
       "Profit_Margin                0\n",
       "dtype: int64"
      ]
     },
     "execution_count": 279,
     "metadata": {},
     "output_type": "execute_result"
    }
   ],
   "source": [
    "# Identify missing values in the dataset\n",
    "missing_values = Harry_Potter.isnull().sum()\n",
    "missing_values"
   ]
  },
  {
   "cell_type": "code",
   "execution_count": 281,
   "id": "62a3fd28-1db1-4624-9dd1-c59dc78a045d",
   "metadata": {},
   "outputs": [
    {
     "data": {
      "text/html": [
       "<div>\n",
       "<style scoped>\n",
       "    .dataframe tbody tr th:only-of-type {\n",
       "        vertical-align: middle;\n",
       "    }\n",
       "\n",
       "    .dataframe tbody tr th {\n",
       "        vertical-align: top;\n",
       "    }\n",
       "\n",
       "    .dataframe thead th {\n",
       "        text-align: right;\n",
       "    }\n",
       "</style>\n",
       "<table border=\"1\" class=\"dataframe\">\n",
       "  <thead>\n",
       "    <tr style=\"text-align: right;\">\n",
       "      <th></th>\n",
       "      <th>Movie ID</th>\n",
       "      <th>Movie Title</th>\n",
       "      <th>Release Year</th>\n",
       "      <th>Runtime</th>\n",
       "      <th>Budget</th>\n",
       "      <th>Box Office</th>\n",
       "      <th>Chapter ID</th>\n",
       "      <th>Chapter Name</th>\n",
       "      <th>Movie Chapter</th>\n",
       "      <th>Dialogue ID</th>\n",
       "      <th>...</th>\n",
       "      <th>Wand (Core)</th>\n",
       "      <th>Place Name</th>\n",
       "      <th>Place Category</th>\n",
       "      <th>Budget_Numeric</th>\n",
       "      <th>BoxOffice_Numeric</th>\n",
       "      <th>BoxOffice_to_Budget</th>\n",
       "      <th>Release Year Extracted</th>\n",
       "      <th>Profit_Margin</th>\n",
       "      <th>Director</th>\n",
       "      <th>Ranking</th>\n",
       "    </tr>\n",
       "  </thead>\n",
       "  <tbody>\n",
       "    <tr>\n",
       "      <th>0</th>\n",
       "      <td>1</td>\n",
       "      <td>Harry Potter and the Philosopher's Stone</td>\n",
       "      <td>NaT</td>\n",
       "      <td>152</td>\n",
       "      <td>125000000.0</td>\n",
       "      <td>1.002000e+09</td>\n",
       "      <td>1</td>\n",
       "      <td>Doorstep Delivery</td>\n",
       "      <td>1</td>\n",
       "      <td>1</td>\n",
       "      <td>...</td>\n",
       "      <td>Thestral Tail Hair</td>\n",
       "      <td>4 Privet Drive</td>\n",
       "      <td>Dwellings</td>\n",
       "      <td>125000000.0</td>\n",
       "      <td>1.002000e+09</td>\n",
       "      <td>8.016000</td>\n",
       "      <td>NaN</td>\n",
       "      <td>701.600000</td>\n",
       "      <td>Chris Columbus</td>\n",
       "      <td>8.1</td>\n",
       "    </tr>\n",
       "    <tr>\n",
       "      <th>1</th>\n",
       "      <td>1</td>\n",
       "      <td>Harry Potter and the Philosopher's Stone</td>\n",
       "      <td>NaT</td>\n",
       "      <td>152</td>\n",
       "      <td>125000000.0</td>\n",
       "      <td>1.002000e+09</td>\n",
       "      <td>1</td>\n",
       "      <td>Doorstep Delivery</td>\n",
       "      <td>1</td>\n",
       "      <td>2</td>\n",
       "      <td>...</td>\n",
       "      <td>Dragon Heartstring</td>\n",
       "      <td>4 Privet Drive</td>\n",
       "      <td>Dwellings</td>\n",
       "      <td>125000000.0</td>\n",
       "      <td>1.002000e+09</td>\n",
       "      <td>8.016000</td>\n",
       "      <td>NaN</td>\n",
       "      <td>701.600000</td>\n",
       "      <td>Chris Columbus</td>\n",
       "      <td>8.1</td>\n",
       "    </tr>\n",
       "    <tr>\n",
       "      <th>2</th>\n",
       "      <td>1</td>\n",
       "      <td>Harry Potter and the Philosopher's Stone</td>\n",
       "      <td>NaT</td>\n",
       "      <td>152</td>\n",
       "      <td>125000000.0</td>\n",
       "      <td>1.002000e+09</td>\n",
       "      <td>1</td>\n",
       "      <td>Doorstep Delivery</td>\n",
       "      <td>1</td>\n",
       "      <td>3</td>\n",
       "      <td>...</td>\n",
       "      <td>Thestral Tail Hair</td>\n",
       "      <td>4 Privet Drive</td>\n",
       "      <td>Dwellings</td>\n",
       "      <td>125000000.0</td>\n",
       "      <td>1.002000e+09</td>\n",
       "      <td>8.016000</td>\n",
       "      <td>NaN</td>\n",
       "      <td>701.600000</td>\n",
       "      <td>Chris Columbus</td>\n",
       "      <td>8.1</td>\n",
       "    </tr>\n",
       "    <tr>\n",
       "      <th>3</th>\n",
       "      <td>1</td>\n",
       "      <td>Harry Potter and the Philosopher's Stone</td>\n",
       "      <td>NaT</td>\n",
       "      <td>152</td>\n",
       "      <td>125000000.0</td>\n",
       "      <td>1.002000e+09</td>\n",
       "      <td>1</td>\n",
       "      <td>Doorstep Delivery</td>\n",
       "      <td>1</td>\n",
       "      <td>4</td>\n",
       "      <td>...</td>\n",
       "      <td>Dragon Heartstring</td>\n",
       "      <td>4 Privet Drive</td>\n",
       "      <td>Dwellings</td>\n",
       "      <td>125000000.0</td>\n",
       "      <td>1.002000e+09</td>\n",
       "      <td>8.016000</td>\n",
       "      <td>NaN</td>\n",
       "      <td>701.600000</td>\n",
       "      <td>Chris Columbus</td>\n",
       "      <td>8.1</td>\n",
       "    </tr>\n",
       "    <tr>\n",
       "      <th>4</th>\n",
       "      <td>1</td>\n",
       "      <td>Harry Potter and the Philosopher's Stone</td>\n",
       "      <td>NaT</td>\n",
       "      <td>152</td>\n",
       "      <td>125000000.0</td>\n",
       "      <td>1.002000e+09</td>\n",
       "      <td>1</td>\n",
       "      <td>Doorstep Delivery</td>\n",
       "      <td>1</td>\n",
       "      <td>5</td>\n",
       "      <td>...</td>\n",
       "      <td>Thestral Tail Hair</td>\n",
       "      <td>4 Privet Drive</td>\n",
       "      <td>Dwellings</td>\n",
       "      <td>125000000.0</td>\n",
       "      <td>1.002000e+09</td>\n",
       "      <td>8.016000</td>\n",
       "      <td>NaN</td>\n",
       "      <td>701.600000</td>\n",
       "      <td>Chris Columbus</td>\n",
       "      <td>8.1</td>\n",
       "    </tr>\n",
       "    <tr>\n",
       "      <th>...</th>\n",
       "      <td>...</td>\n",
       "      <td>...</td>\n",
       "      <td>...</td>\n",
       "      <td>...</td>\n",
       "      <td>...</td>\n",
       "      <td>...</td>\n",
       "      <td>...</td>\n",
       "      <td>...</td>\n",
       "      <td>...</td>\n",
       "      <td>...</td>\n",
       "      <td>...</td>\n",
       "      <td>...</td>\n",
       "      <td>...</td>\n",
       "      <td>...</td>\n",
       "      <td>...</td>\n",
       "      <td>...</td>\n",
       "      <td>...</td>\n",
       "      <td>...</td>\n",
       "      <td>...</td>\n",
       "      <td>...</td>\n",
       "      <td>...</td>\n",
       "    </tr>\n",
       "    <tr>\n",
       "      <th>2747</th>\n",
       "      <td>3</td>\n",
       "      <td>Harry Potter and the Prisoner of Azkaban</td>\n",
       "      <td>NaT</td>\n",
       "      <td>142</td>\n",
       "      <td>130000000.0</td>\n",
       "      <td>7.967000e+08</td>\n",
       "      <td>103</td>\n",
       "      <td>The Firebolt</td>\n",
       "      <td>33</td>\n",
       "      <td>2748</td>\n",
       "      <td>...</td>\n",
       "      <td>NaN</td>\n",
       "      <td>Great Hall</td>\n",
       "      <td>Hogwarts</td>\n",
       "      <td>130000000.0</td>\n",
       "      <td>7.967000e+08</td>\n",
       "      <td>6.128462</td>\n",
       "      <td>NaN</td>\n",
       "      <td>512.846154</td>\n",
       "      <td>Alfonso Cuarón</td>\n",
       "      <td>7.9</td>\n",
       "    </tr>\n",
       "    <tr>\n",
       "      <th>2748</th>\n",
       "      <td>3</td>\n",
       "      <td>Harry Potter and the Prisoner of Azkaban</td>\n",
       "      <td>NaT</td>\n",
       "      <td>142</td>\n",
       "      <td>130000000.0</td>\n",
       "      <td>7.967000e+08</td>\n",
       "      <td>103</td>\n",
       "      <td>The Firebolt</td>\n",
       "      <td>33</td>\n",
       "      <td>2749</td>\n",
       "      <td>...</td>\n",
       "      <td>Dragon Heartstring</td>\n",
       "      <td>Great Hall</td>\n",
       "      <td>Hogwarts</td>\n",
       "      <td>130000000.0</td>\n",
       "      <td>7.967000e+08</td>\n",
       "      <td>6.128462</td>\n",
       "      <td>NaN</td>\n",
       "      <td>512.846154</td>\n",
       "      <td>Alfonso Cuarón</td>\n",
       "      <td>7.9</td>\n",
       "    </tr>\n",
       "    <tr>\n",
       "      <th>2749</th>\n",
       "      <td>3</td>\n",
       "      <td>Harry Potter and the Prisoner of Azkaban</td>\n",
       "      <td>NaT</td>\n",
       "      <td>142</td>\n",
       "      <td>130000000.0</td>\n",
       "      <td>7.967000e+08</td>\n",
       "      <td>103</td>\n",
       "      <td>The Firebolt</td>\n",
       "      <td>33</td>\n",
       "      <td>2750</td>\n",
       "      <td>...</td>\n",
       "      <td>Unicorn Hair</td>\n",
       "      <td>Great Hall</td>\n",
       "      <td>Hogwarts</td>\n",
       "      <td>130000000.0</td>\n",
       "      <td>7.967000e+08</td>\n",
       "      <td>6.128462</td>\n",
       "      <td>NaN</td>\n",
       "      <td>512.846154</td>\n",
       "      <td>Alfonso Cuarón</td>\n",
       "      <td>7.9</td>\n",
       "    </tr>\n",
       "    <tr>\n",
       "      <th>2750</th>\n",
       "      <td>3</td>\n",
       "      <td>Harry Potter and the Prisoner of Azkaban</td>\n",
       "      <td>NaT</td>\n",
       "      <td>142</td>\n",
       "      <td>130000000.0</td>\n",
       "      <td>7.967000e+08</td>\n",
       "      <td>103</td>\n",
       "      <td>The Firebolt</td>\n",
       "      <td>33</td>\n",
       "      <td>2751</td>\n",
       "      <td>...</td>\n",
       "      <td>NaN</td>\n",
       "      <td>Great Hall</td>\n",
       "      <td>Hogwarts</td>\n",
       "      <td>130000000.0</td>\n",
       "      <td>7.967000e+08</td>\n",
       "      <td>6.128462</td>\n",
       "      <td>NaN</td>\n",
       "      <td>512.846154</td>\n",
       "      <td>Alfonso Cuarón</td>\n",
       "      <td>7.9</td>\n",
       "    </tr>\n",
       "    <tr>\n",
       "      <th>2751</th>\n",
       "      <td>3</td>\n",
       "      <td>Harry Potter and the Prisoner of Azkaban</td>\n",
       "      <td>NaT</td>\n",
       "      <td>142</td>\n",
       "      <td>130000000.0</td>\n",
       "      <td>7.967000e+08</td>\n",
       "      <td>103</td>\n",
       "      <td>The Firebolt</td>\n",
       "      <td>33</td>\n",
       "      <td>2752</td>\n",
       "      <td>...</td>\n",
       "      <td>Dragon Heartstring</td>\n",
       "      <td>Great Hall</td>\n",
       "      <td>Hogwarts</td>\n",
       "      <td>130000000.0</td>\n",
       "      <td>7.967000e+08</td>\n",
       "      <td>6.128462</td>\n",
       "      <td>NaN</td>\n",
       "      <td>512.846154</td>\n",
       "      <td>Alfonso Cuarón</td>\n",
       "      <td>7.9</td>\n",
       "    </tr>\n",
       "  </tbody>\n",
       "</table>\n",
       "<p>2752 rows × 29 columns</p>\n",
       "</div>"
      ],
      "text/plain": [
       "      Movie ID                               Movie Title Release Year  \\\n",
       "0            1  Harry Potter and the Philosopher's Stone          NaT   \n",
       "1            1  Harry Potter and the Philosopher's Stone          NaT   \n",
       "2            1  Harry Potter and the Philosopher's Stone          NaT   \n",
       "3            1  Harry Potter and the Philosopher's Stone          NaT   \n",
       "4            1  Harry Potter and the Philosopher's Stone          NaT   \n",
       "...        ...                                       ...          ...   \n",
       "2747         3  Harry Potter and the Prisoner of Azkaban          NaT   \n",
       "2748         3  Harry Potter and the Prisoner of Azkaban          NaT   \n",
       "2749         3  Harry Potter and the Prisoner of Azkaban          NaT   \n",
       "2750         3  Harry Potter and the Prisoner of Azkaban          NaT   \n",
       "2751         3  Harry Potter and the Prisoner of Azkaban          NaT   \n",
       "\n",
       "      Runtime       Budget    Box Office  Chapter ID       Chapter Name  \\\n",
       "0         152  125000000.0  1.002000e+09           1  Doorstep Delivery   \n",
       "1         152  125000000.0  1.002000e+09           1  Doorstep Delivery   \n",
       "2         152  125000000.0  1.002000e+09           1  Doorstep Delivery   \n",
       "3         152  125000000.0  1.002000e+09           1  Doorstep Delivery   \n",
       "4         152  125000000.0  1.002000e+09           1  Doorstep Delivery   \n",
       "...       ...          ...           ...         ...                ...   \n",
       "2747      142  130000000.0  7.967000e+08         103       The Firebolt   \n",
       "2748      142  130000000.0  7.967000e+08         103       The Firebolt   \n",
       "2749      142  130000000.0  7.967000e+08         103       The Firebolt   \n",
       "2750      142  130000000.0  7.967000e+08         103       The Firebolt   \n",
       "2751      142  130000000.0  7.967000e+08         103       The Firebolt   \n",
       "\n",
       "      Movie Chapter  Dialogue ID  ...         Wand (Core)      Place Name  \\\n",
       "0                 1            1  ...  Thestral Tail Hair  4 Privet Drive   \n",
       "1                 1            2  ...  Dragon Heartstring  4 Privet Drive   \n",
       "2                 1            3  ...  Thestral Tail Hair  4 Privet Drive   \n",
       "3                 1            4  ...  Dragon Heartstring  4 Privet Drive   \n",
       "4                 1            5  ...  Thestral Tail Hair  4 Privet Drive   \n",
       "...             ...          ...  ...                 ...             ...   \n",
       "2747             33         2748  ...                 NaN      Great Hall   \n",
       "2748             33         2749  ...  Dragon Heartstring      Great Hall   \n",
       "2749             33         2750  ...        Unicorn Hair      Great Hall   \n",
       "2750             33         2751  ...                 NaN      Great Hall   \n",
       "2751             33         2752  ...  Dragon Heartstring      Great Hall   \n",
       "\n",
       "     Place Category Budget_Numeric BoxOffice_Numeric BoxOffice_to_Budget  \\\n",
       "0         Dwellings    125000000.0      1.002000e+09            8.016000   \n",
       "1         Dwellings    125000000.0      1.002000e+09            8.016000   \n",
       "2         Dwellings    125000000.0      1.002000e+09            8.016000   \n",
       "3         Dwellings    125000000.0      1.002000e+09            8.016000   \n",
       "4         Dwellings    125000000.0      1.002000e+09            8.016000   \n",
       "...             ...            ...               ...                 ...   \n",
       "2747       Hogwarts    130000000.0      7.967000e+08            6.128462   \n",
       "2748       Hogwarts    130000000.0      7.967000e+08            6.128462   \n",
       "2749       Hogwarts    130000000.0      7.967000e+08            6.128462   \n",
       "2750       Hogwarts    130000000.0      7.967000e+08            6.128462   \n",
       "2751       Hogwarts    130000000.0      7.967000e+08            6.128462   \n",
       "\n",
       "     Release Year Extracted Profit_Margin        Director Ranking  \n",
       "0                       NaN    701.600000  Chris Columbus     8.1  \n",
       "1                       NaN    701.600000  Chris Columbus     8.1  \n",
       "2                       NaN    701.600000  Chris Columbus     8.1  \n",
       "3                       NaN    701.600000  Chris Columbus     8.1  \n",
       "4                       NaN    701.600000  Chris Columbus     8.1  \n",
       "...                     ...           ...             ...     ...  \n",
       "2747                    NaN    512.846154  Alfonso Cuarón     7.9  \n",
       "2748                    NaN    512.846154  Alfonso Cuarón     7.9  \n",
       "2749                    NaN    512.846154  Alfonso Cuarón     7.9  \n",
       "2750                    NaN    512.846154  Alfonso Cuarón     7.9  \n",
       "2751                    NaN    512.846154  Alfonso Cuarón     7.9  \n",
       "\n",
       "[2752 rows x 29 columns]"
      ]
     },
     "execution_count": 281,
     "metadata": {},
     "output_type": "execute_result"
    }
   ],
   "source": [
    "Harry_Potter = pd.merge(Harry_Potter, extra_details, on='Movie Title', how='inner')\n",
    "Harry_Potter"
   ]
  },
  {
   "cell_type": "code",
   "execution_count": 286,
   "id": "b2e2a1ad-c82b-4eff-83d5-bfb9d0ea9a85",
   "metadata": {},
   "outputs": [
    {
     "data": {
      "text/html": [
       "<div>\n",
       "<style scoped>\n",
       "    .dataframe tbody tr th:only-of-type {\n",
       "        vertical-align: middle;\n",
       "    }\n",
       "\n",
       "    .dataframe tbody tr th {\n",
       "        vertical-align: top;\n",
       "    }\n",
       "\n",
       "    .dataframe thead th {\n",
       "        text-align: right;\n",
       "    }\n",
       "</style>\n",
       "<table border=\"1\" class=\"dataframe\">\n",
       "  <thead>\n",
       "    <tr style=\"text-align: right;\">\n",
       "      <th></th>\n",
       "      <th>Movie Title</th>\n",
       "      <th>Budget</th>\n",
       "      <th>Box Office</th>\n",
       "      <th>mean_revenue</th>\n",
       "    </tr>\n",
       "  </thead>\n",
       "  <tbody>\n",
       "    <tr>\n",
       "      <th>0</th>\n",
       "      <td>Harry Potter and the Chamber of Secrets</td>\n",
       "      <td>100000000.0</td>\n",
       "      <td>8.803000e+08</td>\n",
       "      <td>490150000.0</td>\n",
       "    </tr>\n",
       "    <tr>\n",
       "      <th>1</th>\n",
       "      <td>Harry Potter and the Philosopher's Stone</td>\n",
       "      <td>125000000.0</td>\n",
       "      <td>1.002000e+09</td>\n",
       "      <td>563500000.0</td>\n",
       "    </tr>\n",
       "    <tr>\n",
       "      <th>2</th>\n",
       "      <td>Harry Potter and the Prisoner of Azkaban</td>\n",
       "      <td>130000000.0</td>\n",
       "      <td>7.967000e+08</td>\n",
       "      <td>463350000.0</td>\n",
       "    </tr>\n",
       "  </tbody>\n",
       "</table>\n",
       "</div>"
      ],
      "text/plain": [
       "                                Movie Title       Budget    Box Office  \\\n",
       "0   Harry Potter and the Chamber of Secrets  100000000.0  8.803000e+08   \n",
       "1  Harry Potter and the Philosopher's Stone  125000000.0  1.002000e+09   \n",
       "2  Harry Potter and the Prisoner of Azkaban  130000000.0  7.967000e+08   \n",
       "\n",
       "   mean_revenue  \n",
       "0   490150000.0  \n",
       "1   563500000.0  \n",
       "2   463350000.0  "
      ]
     },
     "execution_count": 286,
     "metadata": {},
     "output_type": "execute_result"
    }
   ],
   "source": [
    "# Ensure Budget and Box Office are converted to strings before cleaning\n",
    "Harry_Potter['Budget'] = Harry_Potter['Budget'].astype(str).str.replace('[$,]', '', regex=True).astype(float)\n",
    "Harry_Potter['Box Office'] = Harry_Potter['Box Office'].astype(str).str.replace('[$,]', '', regex=True).astype(float)\n",
    "# Calculate mean revenue\n",
    "Harry_Potter['mean_revenue'] = (Harry_Potter['Budget'] + Harry_Potter['Box Office']) / 2\n",
    "\n",
    "# Group by Movie Title and calculate mean values\n",
    "grouped_data = Harry_Potter.groupby(['Movie Title'], as_index=False).agg({\n",
    "    'Budget': 'mean',\n",
    "    'Box Office': 'mean',\n",
    "    'mean_revenue': 'mean'\n",
    "})\n",
    "\n",
    "# Display the grouped data\n",
    "grouped_data.head()"
   ]
  },
  {
   "cell_type": "markdown",
   "id": "9f175fcb-518a-4c58-b205-34c0ab0fe257",
   "metadata": {},
   "source": [
    "# Machine Learning with Scikit-Learn"
   ]
  },
  {
   "cell_type": "markdown",
   "id": "90197f46-83e9-4830-97b5-37126d3b29f2",
   "metadata": {},
   "source": [
    "#### Using GradientBoostingClassifier"
   ]
  },
  {
   "cell_type": "code",
   "execution_count": 302,
   "id": "30c58942-4e1f-4e33-a47b-1466b83ce9f5",
   "metadata": {},
   "outputs": [
    {
     "name": "stdout",
     "output_type": "stream",
     "text": [
      "Available columns in the dataset:\n"
     ]
    },
    {
     "data": {
      "text/plain": [
       "['Movie ID',\n",
       " 'Movie Title',\n",
       " 'Release Year',\n",
       " 'Runtime',\n",
       " 'Budget',\n",
       " 'Box Office',\n",
       " 'Chapter ID',\n",
       " 'Chapter Name',\n",
       " 'Movie Chapter',\n",
       " 'Dialogue ID',\n",
       " 'Place ID',\n",
       " 'Character ID',\n",
       " 'Dialogue',\n",
       " 'Character Name',\n",
       " 'Species',\n",
       " 'Gender',\n",
       " 'House',\n",
       " 'Patronus',\n",
       " 'Wand (Wood)',\n",
       " 'Wand (Core)',\n",
       " 'Place Name',\n",
       " 'Place Category',\n",
       " 'Budget_Numeric',\n",
       " 'BoxOffice_Numeric',\n",
       " 'BoxOffice_to_Budget',\n",
       " 'Release Year Extracted',\n",
       " 'Profit_Margin']"
      ]
     },
     "execution_count": 302,
     "metadata": {},
     "output_type": "execute_result"
    }
   ],
   "source": [
    "import pandas as pd\n",
    "\n",
    "# Load your dataset\n",
    "Harry_Potter = pd.read_csv(\"HarryPotterDataset.csv\")  # Replace with your actual data loading method\n",
    "\n",
    "# Print the available columns\n",
    "print(\"Available columns in the dataset:\")\n",
    "Harry_Potter.columns.tolist()"
   ]
  },
  {
   "cell_type": "code",
   "execution_count": 312,
   "id": "c6b4bf2e-ec5a-40c7-b49c-05d39b09de57",
   "metadata": {},
   "outputs": [
    {
     "name": "stdout",
     "output_type": "stream",
     "text": [
      "Accuracy: 94.22431161853592\n",
      "                              precision    recall  f1-score   support\n",
      "\n",
      "Beauxbatons Academy of Magic       1.00      1.00      1.00         4\n",
      "                  Gryffindor       0.96      0.98      0.97      1100\n",
      "                  Hufflepuff       1.00      0.20      0.33        15\n",
      "                   Ravenclaw       1.00      0.97      0.99        36\n",
      "                   Slytherin       1.00      0.92      0.96       166\n",
      "                     Unknown       0.76      0.80      0.78       168\n",
      "\n",
      "                    accuracy                           0.94      1489\n",
      "                   macro avg       0.95      0.81      0.84      1489\n",
      "                weighted avg       0.94      0.94      0.94      1489\n",
      "\n"
     ]
    }
   ],
   "source": [
    "import pandas as pd\n",
    "from sklearn.model_selection import train_test_split\n",
    "from sklearn.ensemble import GradientBoostingClassifier\n",
    "from sklearn.metrics import accuracy_score, classification_report\n",
    "\n",
    "# Load your dataset\n",
    "data = pd.read_csv(\"HarryPotterDataset.csv\")\n",
    "\n",
    "# Define features and target\n",
    "features = [\"Species\", \"Gender\", \"Patronus\", \"Wand (Wood)\", \"Wand (Core)\", \"Place Category\"]\n",
    "target = \"House\"\n",
    "\n",
    "# Handle missing values and one-hot encode features\n",
    "X = pd.get_dummies(data[features].fillna(\"Unknown\"), drop_first=True).reset_index(drop=True)\n",
    "y = data[target].fillna(\"Unknown\").reset_index(drop=True)\n",
    "\n",
    "# Train-test split\n",
    "X_train, X_test, y_train, y_test = train_test_split(X, y, test_size=0.2, random_state=42)\n",
    "\n",
    "# Train Gradient Boosting Classifier\n",
    "gb_model = GradientBoostingClassifier(random_state=42)\n",
    "gb_model.fit(X_train, y_train)\n",
    "\n",
    "# Predictions\n",
    "y_pred = gb_model.predict(X_test)\n",
    "\n",
    "# Evaluation\n",
    "print(\"Accuracy:\", accuracy_score(y_test, y_pred) * 100)\n",
    "print(classification_report(y_test, y_pred))"
   ]
  },
  {
   "cell_type": "markdown",
   "id": "2d0ac91b-6b42-4779-b739-02f558fc349f",
   "metadata": {},
   "source": [
    "#### Using LogisticRegression"
   ]
  },
  {
   "cell_type": "code",
   "execution_count": 314,
   "id": "bf5067b9-f8c7-4950-acbc-dc793427f0f7",
   "metadata": {},
   "outputs": [
    {
     "name": "stdout",
     "output_type": "stream",
     "text": [
      "Accuracy: 93.55271994627266\n",
      "                              precision    recall  f1-score   support\n",
      "\n",
      "Beauxbatons Academy of Magic       1.00      1.00      1.00         4\n",
      "                  Gryffindor       0.98      0.96      0.97      1100\n",
      "                  Hufflepuff       1.00      0.20      0.33        15\n",
      "                   Ravenclaw       1.00      0.86      0.93        36\n",
      "                   Slytherin       1.00      0.92      0.96       166\n",
      "                     Unknown       0.68      0.90      0.77       168\n",
      "\n",
      "                    accuracy                           0.94      1489\n",
      "                   macro avg       0.94      0.81      0.83      1489\n",
      "                weighted avg       0.95      0.94      0.94      1489\n",
      "\n"
     ]
    }
   ],
   "source": [
    "import pandas as pd\n",
    "from sklearn.model_selection import train_test_split\n",
    "from sklearn.linear_model import LogisticRegression\n",
    "from sklearn.metrics import accuracy_score, classification_report\n",
    "\n",
    "# Load your dataset\n",
    "data = pd.read_csv(\"HarryPotterDataset.csv\")\n",
    "\n",
    "# Define features and target\n",
    "features = [\"Species\", \"Gender\", \"Patronus\", \"Wand (Wood)\", \"Wand (Core)\", \"Place Category\"]\n",
    "target = \"House\"\n",
    "\n",
    "# Handle missing values and one-hot encode features\n",
    "X = pd.get_dummies(data[features].fillna(\"Unknown\"), drop_first=True).reset_index(drop=True)\n",
    "y = data[target].fillna(\"Unknown\").reset_index(drop=True)\n",
    "\n",
    "# Train-test split\n",
    "X_train, X_test, y_train, y_test = train_test_split(X, y, test_size=0.2, random_state=42)\n",
    "\n",
    "# Train Logistic Regression\n",
    "logistic_model = LogisticRegression(max_iter=1000, random_state=42)  # Increase max_iter if needed\n",
    "logistic_model.fit(X_train, y_train)\n",
    "\n",
    "# Predictions\n",
    "y_pred = logistic_model.predict(X_test)\n",
    "\n",
    "# Evaluation\n",
    "print(\"Accuracy:\", accuracy_score(y_test, y_pred) * 100)\n",
    "print(classification_report(y_test, y_pred))"
   ]
  },
  {
   "cell_type": "markdown",
   "id": "6dfb13a6-4d76-4b4f-93b3-9914693b9faf",
   "metadata": {},
   "source": [
    "#### Using KNeighborsClassifier"
   ]
  },
  {
   "cell_type": "code",
   "execution_count": 316,
   "id": "a1a171e8-5978-472a-afb1-1aed73ede81f",
   "metadata": {},
   "outputs": [
    {
     "name": "stdout",
     "output_type": "stream",
     "text": [
      "Accuracy: 94.22431161853592\n",
      "                              precision    recall  f1-score   support\n",
      "\n",
      "Beauxbatons Academy of Magic       1.00      1.00      1.00         4\n",
      "                  Gryffindor       0.94      0.99      0.96      1100\n",
      "                  Hufflepuff       0.60      0.40      0.48        15\n",
      "                   Ravenclaw       1.00      0.97      0.99        36\n",
      "                   Slytherin       0.99      0.92      0.95       166\n",
      "                     Unknown       0.89      0.71      0.79       168\n",
      "\n",
      "                    accuracy                           0.94      1489\n",
      "                   macro avg       0.90      0.83      0.86      1489\n",
      "                weighted avg       0.94      0.94      0.94      1489\n",
      "\n"
     ]
    }
   ],
   "source": [
    "import pandas as pd\n",
    "from sklearn.model_selection import train_test_split\n",
    "from sklearn.neighbors import KNeighborsClassifier\n",
    "from sklearn.metrics import accuracy_score, classification_report\n",
    "\n",
    "# Load your dataset\n",
    "data = pd.read_csv(\"HarryPotterDataset.csv\")\n",
    "\n",
    "# Define features and target\n",
    "features = [\"Species\", \"Gender\", \"Patronus\", \"Wand (Wood)\", \"Wand (Core)\", \"Place Category\"]\n",
    "target = \"House\"\n",
    "\n",
    "# Handle missing values and one-hot encode features\n",
    "X = pd.get_dummies(data[features].fillna(\"Unknown\"), drop_first=True).reset_index(drop=True)\n",
    "y = data[target].fillna(\"Unknown\").reset_index(drop=True)\n",
    "\n",
    "# Train-test split\n",
    "X_train, X_test, y_train, y_test = train_test_split(X, y, test_size=0.2, random_state=42)\n",
    "\n",
    "# Train K-Nearest Neighbors Classifier\n",
    "knn_model = KNeighborsClassifier(n_neighbors=5)  # You can adjust n_neighbors\n",
    "knn_model.fit(X_train, y_train)\n",
    "\n",
    "# Predictions\n",
    "y_pred = knn_model.predict(X_test)\n",
    "\n",
    "# Evaluation\n",
    "print(\"Accuracy:\", accuracy_score(y_test, y_pred) * 100)\n",
    "print(classification_report(y_test, y_pred))"
   ]
  }
 ],
 "metadata": {
  "kernelspec": {
   "display_name": "Python 3 (ipykernel)",
   "language": "python",
   "name": "python3"
  },
  "language_info": {
   "codemirror_mode": {
    "name": "ipython",
    "version": 3
   },
   "file_extension": ".py",
   "mimetype": "text/x-python",
   "name": "python",
   "nbconvert_exporter": "python",
   "pygments_lexer": "ipython3",
   "version": "3.12.4"
  }
 },
 "nbformat": 4,
 "nbformat_minor": 5
}
